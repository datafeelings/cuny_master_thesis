{
 "cells": [
  {
   "cell_type": "code",
   "execution_count": 9,
   "metadata": {},
   "outputs": [
    {
     "name": "stderr",
     "output_type": "stream",
     "text": [
      "/Users/dima/anaconda3/lib/python3.6/site-packages/h5py/__init__.py:34: FutureWarning: Conversion of the second argument of issubdtype from `float` to `np.floating` is deprecated. In future, it will be treated as `np.float64 == np.dtype(float).type`.\n",
      "  from ._conv import register_converters as _register_converters\n",
      "Using TensorFlow backend.\n"
     ]
    }
   ],
   "source": [
    "import pandas as pd\n",
    "import os\n",
    "import seaborn as sns\n",
    "import numpy as np\n",
    "%matplotlib inline\n",
    "\n",
    "from __future__ import print_function\n",
    "import collections\n",
    "import os\n",
    "import tensorflow as tf\n",
    "from keras.models import Sequential, load_model\n",
    "from keras.layers import Dense, Activation, Embedding, Dropout, TimeDistributed\n",
    "from keras.layers import LSTM\n",
    "from keras.optimizers import Adam\n",
    "from keras.utils import to_categorical\n",
    "from keras.callbacks import ModelCheckpoint\n",
    "import numpy as np\n",
    "import argparse"
   ]
  },
  {
   "cell_type": "code",
   "execution_count": 2,
   "metadata": {
    "collapsed": true
   },
   "outputs": [],
   "source": [
    "# Read all the files\n",
    "\n",
    "data_folder = \"input_data/\"\n",
    "proc_data_folder = \"processed_data/\"\n",
    "\n",
    "\n",
    "aisles = pd.read_csv(os.path.join(data_folder, \"aisles.csv\"))\n",
    "departments = pd.read_csv(os.path.join(data_folder, \"departments.csv\"))\n",
    "products = pd.read_csv(os.path.join(data_folder, \"products.csv\"))\n",
    "\n",
    "\n",
    "# Sample from the big files for now\n",
    "order_prod_prior = pd.read_csv(os.path.join(data_folder, \"order_products__prior.csv\"))\n",
    "order_prod_train = pd.read_csv(os.path.join(data_folder, \"order_products__train.csv\"))\n",
    "orders = pd.read_csv(os.path.join(data_folder, \"orders.csv\"))\n"
   ]
  },
  {
   "cell_type": "code",
   "execution_count": 3,
   "metadata": {
    "collapsed": true
   },
   "outputs": [],
   "source": [
    "# Sample 20 users' orders, inner join on order_id with order_prod_prior \n",
    "order_samp = orders[orders[\"user_id\"].isin(range(1,21))]\n",
    "train_subset = order_prod_prior.merge(order_samp, on=\"order_id\")\n",
    "target_subset = order_prod_train.merge(order_samp, on=\"order_id\")"
   ]
  },
  {
   "cell_type": "code",
   "execution_count": 4,
   "metadata": {},
   "outputs": [
    {
     "name": "stdout",
     "output_type": "stream",
     "text": [
      "(2045, 10) (137, 10)\n"
     ]
    }
   ],
   "source": [
    "print(train_subset.shape, target_subset.shape)"
   ]
  },
  {
   "cell_type": "code",
   "execution_count": 7,
   "metadata": {},
   "outputs": [
    {
     "name": "stdout",
     "output_type": "stream",
     "text": [
      "[196, 14084, 12427, 26088, 26405, 196, 10258, 12427, 13176, 26088, 13032, 196, 12427, 10258, 25133, 30450, 196, 12427, 10258, 25133, 26405, 196, 12427, 10258, 25133, 10326, 17122, 41787, 13176, 196, 12427, 10258, 25133, 196, 10258, 12427, 25133, 13032, 12427, 196, 10258, 25133, 46149, 49235, 49235, 46149, 25133, 196, 10258, 12427, 196, 46149, 39657, 38928, 25133, 10258, 35951, 13032, 12427] [196, 25133, 38928, 26405, 39657, 10258, 13032, 26088, 27845, 49235, 46149]\n"
     ]
    }
   ],
   "source": [
    "# Generate sequences of products (discard other features for now)\n",
    "# Can do this for each feature and build a matrix for each user (next iteration?)\n",
    "\n",
    "train_seqs = np.array(train_subset\n",
    "             .sort_values([\"user_id\",\"order_number\",\"add_to_cart_order\"])\n",
    "             .groupby(\"user_id\")[\"product_id\"]\n",
    "             .apply(list)\n",
    "             )\n",
    "\n",
    "target_seqs = np.array(target_subset\n",
    "             .sort_values([\"user_id\",\"order_number\",\"add_to_cart_order\"])\n",
    "             .groupby(\"user_id\")[\"product_id\"]\n",
    "             .apply(list)\n",
    "             )\n",
    "\n",
    "print(train_seqs[0], target_seqs[0])"
   ]
  },
  {
   "cell_type": "code",
   "execution_count": 14,
   "metadata": {},
   "outputs": [
    {
     "ename": "NameError",
     "evalue": "name 'build_vocab' is not defined",
     "output_type": "error",
     "traceback": [
      "\u001b[0;31m---------------------------------------------------------------------------\u001b[0m",
      "\u001b[0;31mNameError\u001b[0m                                 Traceback (most recent call last)",
      "\u001b[0;32m<ipython-input-14-176d5dbaf2e9>\u001b[0m in \u001b[0;36m<module>\u001b[0;34m()\u001b[0m\n\u001b[1;32m      4\u001b[0m \u001b[0;34m\u001b[0m\u001b[0m\n\u001b[1;32m      5\u001b[0m \u001b[0;31m# build the complete vocabulary, then convert text data to list of integers\u001b[0m\u001b[0;34m\u001b[0m\u001b[0;34m\u001b[0m\u001b[0m\n\u001b[0;32m----> 6\u001b[0;31m \u001b[0mword_to_id\u001b[0m \u001b[0;34m=\u001b[0m \u001b[0mbuild_vocab\u001b[0m\u001b[0;34m(\u001b[0m\u001b[0mtrain_path\u001b[0m\u001b[0;34m)\u001b[0m\u001b[0;34m\u001b[0m\u001b[0m\n\u001b[0m\u001b[1;32m      7\u001b[0m \u001b[0mtrain_data\u001b[0m \u001b[0;34m=\u001b[0m \u001b[0mtrain_seqs\u001b[0m\u001b[0;34m\u001b[0m\u001b[0m\n\u001b[1;32m      8\u001b[0m \u001b[0mvalid_data\u001b[0m \u001b[0;34m=\u001b[0m \u001b[0mfile_to_word_ids\u001b[0m\u001b[0;34m(\u001b[0m\u001b[0mvalid_path\u001b[0m\u001b[0;34m,\u001b[0m \u001b[0mword_to_id\u001b[0m\u001b[0;34m)\u001b[0m\u001b[0;34m\u001b[0m\u001b[0m\n",
      "\u001b[0;31mNameError\u001b[0m: name 'build_vocab' is not defined"
     ]
    }
   ],
   "source": [
    "train_path = train_seqs\n",
    "# valid_path = os.path.join(data_path, \"ptb.valid.txt\")\n",
    "# test_path = os.path.join(data_path, \"ptb.test.txt\")\n",
    "\n",
    "# build the complete vocabulary, then convert text data to list of integers\n",
    "word_to_id = build_vocab(train_path)\n",
    "train_data = train_seqs\n",
    "valid_data = file_to_word_ids(valid_path, word_to_id)\n",
    "test_data = file_to_word_ids(test_path, word_to_id)\n",
    "vocabulary = len(word_to_id)\n",
    "reversed_dictionary = dict(zip(word_to_id.values(), word_to_id.keys()))\n",
    "\n",
    "print(train_data[:5])\n",
    "#     print(word_to_id)\n",
    "print(vocabulary)\n",
    "print(\" \".join([reversed_dictionary[x] for x in train_data[:10]]))"
   ]
  },
  {
   "cell_type": "code",
   "execution_count": 13,
   "metadata": {},
   "outputs": [
    {
     "data": {
      "text/plain": [
       "{196: 0,\n",
       " 10258: 2,\n",
       " 10326: 10,\n",
       " 12427: 1,\n",
       " 13032: 4,\n",
       " 13176: 6,\n",
       " 14084: 11,\n",
       " 17122: 12,\n",
       " 25133: 3,\n",
       " 26088: 7,\n",
       " 26405: 8,\n",
       " 30450: 13,\n",
       " 35951: 14,\n",
       " 38928: 15,\n",
       " 39657: 16,\n",
       " 41787: 17,\n",
       " 46149: 5,\n",
       " 49235: 9}"
      ]
     },
     "execution_count": 13,
     "metadata": {},
     "output_type": "execute_result"
    }
   ],
   "source": [
    "word_to_id"
   ]
  },
  {
   "cell_type": "code",
   "execution_count": null,
   "metadata": {
    "collapsed": true
   },
   "outputs": [],
   "source": [
    "def read_words(filename):\n",
    "    with tf.gfile.GFile(filename, \"r\") as f:\n",
    "        return f.read().replace(\"\\n\", \"<eos>\").split()\n",
    "\n",
    "\n",
    "def build_vocab(filename):\n",
    "    data = read_words(filename)\n",
    "\n",
    "    counter = collections.Counter(data)\n",
    "    count_pairs = sorted(counter.items(), key=lambda x: (-x[1], x[0]))\n",
    "\n",
    "    words, _ = list(zip(*count_pairs))\n",
    "    word_to_id = dict(zip(words, range(len(words))))\n",
    "\n",
    "    return word_to_id\n",
    "\n",
    "\n",
    "def file_to_word_ids(filename, word_to_id):\n",
    "    data = read_words(filename)\n",
    "    return [word_to_id[word] for word in data if word in word_to_id]\n",
    "\n",
    "\n",
    "def load_data():\n",
    "    # get the data paths\n",
    "    train_path = os.path.join(data_path, \"ptb.train.txt\")\n",
    "    valid_path = os.path.join(data_path, \"ptb.valid.txt\")\n",
    "    test_path = os.path.join(data_path, \"ptb.test.txt\")\n",
    "\n",
    "    # build the complete vocabulary, then convert text data to list of integers\n",
    "    word_to_id = build_vocab(train_path)\n",
    "    train_data = file_to_word_ids(train_path, word_to_id)\n",
    "    valid_data = file_to_word_ids(valid_path, word_to_id)\n",
    "    test_data = file_to_word_ids(test_path, word_to_id)\n",
    "    vocabulary = len(word_to_id)\n",
    "    reversed_dictionary = dict(zip(word_to_id.values(), word_to_id.keys()))\n",
    "\n",
    "    print(train_data[:5])\n",
    "#     print(word_to_id)\n",
    "    print(vocabulary)\n",
    "    print(\" \".join([reversed_dictionary[x] for x in train_data[:10]]))\n",
    "    return train_data, valid_data, test_data, vocabulary, reversed_dictionary\n",
    "\n",
    "train_data, valid_data, test_data, vocabulary, reversed_dictionary = load_data()"
   ]
  }
 ],
 "metadata": {
  "kernelspec": {
   "display_name": "Python 3",
   "language": "python",
   "name": "python3"
  },
  "language_info": {
   "codemirror_mode": {
    "name": "ipython",
    "version": 3
   },
   "file_extension": ".py",
   "mimetype": "text/x-python",
   "name": "python",
   "nbconvert_exporter": "python",
   "pygments_lexer": "ipython3",
   "version": "3.6.3"
  },
  "varInspector": {
   "cols": {
    "lenName": 16,
    "lenType": 16,
    "lenVar": 40
   },
   "kernels_config": {
    "python": {
     "delete_cmd_postfix": "",
     "delete_cmd_prefix": "del ",
     "library": "var_list.py",
     "varRefreshCmd": "print(var_dic_list())"
    },
    "r": {
     "delete_cmd_postfix": ") ",
     "delete_cmd_prefix": "rm(",
     "library": "var_list.r",
     "varRefreshCmd": "cat(var_dic_list()) "
    }
   },
   "types_to_exclude": [
    "module",
    "function",
    "builtin_function_or_method",
    "instance",
    "_Feature"
   ],
   "window_display": false
  }
 },
 "nbformat": 4,
 "nbformat_minor": 2
}
