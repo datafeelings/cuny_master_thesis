{
 "cells": [
  {
   "cell_type": "markdown",
   "metadata": {},
   "source": [
    "## Reference\n",
    "1) Approach: https://towardsdatascience.com/building-a-book-recommendation-system-using-keras-1fba34180699  \n",
    "2) Implicit Rating Normalization: https://www.cs.purdue.edu/homes/lsi/sigir04-cf-norm.pdf  \n",
    "3) Adding dense layers: https://nipunbatra.github.io/blog/2017/recommend-keras.html  \n",
    "4) Scaling columns in pandas: https://chrisalbon.com/python/data_wrangling/pandas_normalize_column/  \n",
    "5) Keras documentation: https://keras.io/  "
   ]
  },
  {
   "cell_type": "code",
   "execution_count": 1,
   "metadata": {},
   "outputs": [
    {
     "name": "stderr",
     "output_type": "stream",
     "text": [
      "/Users/dima/anaconda3/lib/python3.6/site-packages/matplotlib/font_manager.py:232: UserWarning: Matplotlib is building the font cache using fc-list. This may take a moment.\n",
      "  'Matplotlib is building the font cache using fc-list. '\n",
      "/Users/dima/anaconda3/lib/python3.6/site-packages/h5py/__init__.py:34: FutureWarning: Conversion of the second argument of issubdtype from `float` to `np.floating` is deprecated. In future, it will be treated as `np.float64 == np.dtype(float).type`.\n",
      "  from ._conv import register_converters as _register_converters\n",
      "Using TensorFlow backend.\n"
     ]
    }
   ],
   "source": [
    "import pandas as pd\n",
    "import os\n",
    "import seaborn as sns\n",
    "import numpy as np\n",
    "import random\n",
    "from matplotlib import pyplot as plt\n",
    "\n",
    "from keras.models import Model\n",
    "from keras.layers import Input, Embedding, Dot, GRU, LSTM, Dense, Flatten, Concatenate, Dropout \n",
    "from keras.callbacks import EarlyStopping, ModelCheckpoint"
   ]
  },
  {
   "cell_type": "code",
   "execution_count": 2,
   "metadata": {
    "collapsed": true
   },
   "outputs": [],
   "source": [
    "# Read all the files\n",
    "\n",
    "data_folder = \"input_data/\"\n",
    "proc_data_folder = \"processed_data/\"\n",
    "\n",
    "\n",
    "aisles = pd.read_csv(os.path.join(data_folder, \"aisles.csv\"))\n",
    "departments = pd.read_csv(os.path.join(data_folder, \"departments.csv\"))\n",
    "products = pd.read_csv(os.path.join(data_folder, \"products.csv\"))\n",
    "\n",
    "\n",
    "# Sample from the big files for now\n",
    "order_prod_prior = pd.read_csv(os.path.join(data_folder, \"order_products__prior.csv\"))\n",
    "order_prod_train = pd.read_csv(os.path.join(data_folder, \"order_products__train.csv\"))\n",
    "orders = pd.read_csv(os.path.join(data_folder, \"orders.csv\"))\n"
   ]
  },
  {
   "cell_type": "code",
   "execution_count": 3,
   "metadata": {
    "scrolled": true
   },
   "outputs": [
    {
     "data": {
      "text/html": [
       "<div>\n",
       "<style scoped>\n",
       "    .dataframe tbody tr th:only-of-type {\n",
       "        vertical-align: middle;\n",
       "    }\n",
       "\n",
       "    .dataframe tbody tr th {\n",
       "        vertical-align: top;\n",
       "    }\n",
       "\n",
       "    .dataframe thead th {\n",
       "        text-align: right;\n",
       "    }\n",
       "</style>\n",
       "<table border=\"1\" class=\"dataframe\">\n",
       "  <thead>\n",
       "    <tr style=\"text-align: right;\">\n",
       "      <th></th>\n",
       "      <th>order_id</th>\n",
       "      <th>user_id</th>\n",
       "      <th>eval_set</th>\n",
       "      <th>order_number</th>\n",
       "      <th>order_dow</th>\n",
       "      <th>order_hour_of_day</th>\n",
       "      <th>days_since_prior_order</th>\n",
       "    </tr>\n",
       "  </thead>\n",
       "  <tbody>\n",
       "    <tr>\n",
       "      <th>0</th>\n",
       "      <td>2539329</td>\n",
       "      <td>1</td>\n",
       "      <td>prior</td>\n",
       "      <td>1</td>\n",
       "      <td>2</td>\n",
       "      <td>8</td>\n",
       "      <td>NaN</td>\n",
       "    </tr>\n",
       "    <tr>\n",
       "      <th>1</th>\n",
       "      <td>2398795</td>\n",
       "      <td>1</td>\n",
       "      <td>prior</td>\n",
       "      <td>2</td>\n",
       "      <td>3</td>\n",
       "      <td>7</td>\n",
       "      <td>15.0</td>\n",
       "    </tr>\n",
       "    <tr>\n",
       "      <th>2</th>\n",
       "      <td>473747</td>\n",
       "      <td>1</td>\n",
       "      <td>prior</td>\n",
       "      <td>3</td>\n",
       "      <td>3</td>\n",
       "      <td>12</td>\n",
       "      <td>21.0</td>\n",
       "    </tr>\n",
       "    <tr>\n",
       "      <th>3</th>\n",
       "      <td>2254736</td>\n",
       "      <td>1</td>\n",
       "      <td>prior</td>\n",
       "      <td>4</td>\n",
       "      <td>4</td>\n",
       "      <td>7</td>\n",
       "      <td>29.0</td>\n",
       "    </tr>\n",
       "    <tr>\n",
       "      <th>4</th>\n",
       "      <td>431534</td>\n",
       "      <td>1</td>\n",
       "      <td>prior</td>\n",
       "      <td>5</td>\n",
       "      <td>4</td>\n",
       "      <td>15</td>\n",
       "      <td>28.0</td>\n",
       "    </tr>\n",
       "  </tbody>\n",
       "</table>\n",
       "</div>"
      ],
      "text/plain": [
       "   order_id  user_id eval_set  order_number  order_dow  order_hour_of_day  \\\n",
       "0   2539329        1    prior             1          2                  8   \n",
       "1   2398795        1    prior             2          3                  7   \n",
       "2    473747        1    prior             3          3                 12   \n",
       "3   2254736        1    prior             4          4                  7   \n",
       "4    431534        1    prior             5          4                 15   \n",
       "\n",
       "   days_since_prior_order  \n",
       "0                     NaN  \n",
       "1                    15.0  \n",
       "2                    21.0  \n",
       "3                    29.0  \n",
       "4                    28.0  "
      ]
     },
     "execution_count": 3,
     "metadata": {},
     "output_type": "execute_result"
    }
   ],
   "source": [
    "orders.head()"
   ]
  },
  {
   "cell_type": "code",
   "execution_count": 4,
   "metadata": {},
   "outputs": [
    {
     "data": {
      "text/html": [
       "<div>\n",
       "<style scoped>\n",
       "    .dataframe tbody tr th:only-of-type {\n",
       "        vertical-align: middle;\n",
       "    }\n",
       "\n",
       "    .dataframe tbody tr th {\n",
       "        vertical-align: top;\n",
       "    }\n",
       "\n",
       "    .dataframe thead th {\n",
       "        text-align: right;\n",
       "    }\n",
       "</style>\n",
       "<table border=\"1\" class=\"dataframe\">\n",
       "  <thead>\n",
       "    <tr style=\"text-align: right;\">\n",
       "      <th></th>\n",
       "      <th>order_id</th>\n",
       "      <th>product_id</th>\n",
       "      <th>add_to_cart_order</th>\n",
       "      <th>reordered</th>\n",
       "    </tr>\n",
       "  </thead>\n",
       "  <tbody>\n",
       "    <tr>\n",
       "      <th>0</th>\n",
       "      <td>2</td>\n",
       "      <td>33120</td>\n",
       "      <td>1</td>\n",
       "      <td>1</td>\n",
       "    </tr>\n",
       "    <tr>\n",
       "      <th>1</th>\n",
       "      <td>2</td>\n",
       "      <td>28985</td>\n",
       "      <td>2</td>\n",
       "      <td>1</td>\n",
       "    </tr>\n",
       "    <tr>\n",
       "      <th>2</th>\n",
       "      <td>2</td>\n",
       "      <td>9327</td>\n",
       "      <td>3</td>\n",
       "      <td>0</td>\n",
       "    </tr>\n",
       "    <tr>\n",
       "      <th>3</th>\n",
       "      <td>2</td>\n",
       "      <td>45918</td>\n",
       "      <td>4</td>\n",
       "      <td>1</td>\n",
       "    </tr>\n",
       "    <tr>\n",
       "      <th>4</th>\n",
       "      <td>2</td>\n",
       "      <td>30035</td>\n",
       "      <td>5</td>\n",
       "      <td>0</td>\n",
       "    </tr>\n",
       "  </tbody>\n",
       "</table>\n",
       "</div>"
      ],
      "text/plain": [
       "   order_id  product_id  add_to_cart_order  reordered\n",
       "0         2       33120                  1          1\n",
       "1         2       28985                  2          1\n",
       "2         2        9327                  3          0\n",
       "3         2       45918                  4          1\n",
       "4         2       30035                  5          0"
      ]
     },
     "execution_count": 4,
     "metadata": {},
     "output_type": "execute_result"
    }
   ],
   "source": [
    "order_prod_prior.head()"
   ]
  },
  {
   "cell_type": "code",
   "execution_count": 133,
   "metadata": {},
   "outputs": [],
   "source": [
    "# Sample n users' orders,\n",
    "\n",
    "random.seed(2018)\n",
    "\n",
    "samples = 10000\n",
    "all_user_ids = set(orders[\"user_id\"].unique())\n",
    "sampled_user_ids = sorted(random.sample(all_user_ids,samples))\n",
    "\n",
    "order_samp = orders[orders[\"user_id\"].isin(sampled_user_ids)]"
   ]
  },
  {
   "cell_type": "code",
   "execution_count": 134,
   "metadata": {},
   "outputs": [],
   "source": [
    "# Add products in these orders\n",
    "data_samp = (order_samp.merge(order_prod_prior, on=\"order_id\")\n",
    "             .append(order_samp.merge(order_prod_train, on=\"order_id\")))\n",
    "\n",
    "# Add aisle and department ids \n",
    "data_samp = data_samp.merge(products, on=\"product_id\", how=\"inner\")\n",
    "\n",
    "# Fill missing data\n",
    "data_samp[\"days_since_prior_order\"] = data_samp[\"days_since_prior_order\"].fillna(0) "
   ]
  },
  {
   "cell_type": "code",
   "execution_count": 135,
   "metadata": {},
   "outputs": [
    {
     "data": {
      "text/html": [
       "<div>\n",
       "<style scoped>\n",
       "    .dataframe tbody tr th:only-of-type {\n",
       "        vertical-align: middle;\n",
       "    }\n",
       "\n",
       "    .dataframe tbody tr th {\n",
       "        vertical-align: top;\n",
       "    }\n",
       "\n",
       "    .dataframe thead th {\n",
       "        text-align: right;\n",
       "    }\n",
       "</style>\n",
       "<table border=\"1\" class=\"dataframe\">\n",
       "  <thead>\n",
       "    <tr style=\"text-align: right;\">\n",
       "      <th></th>\n",
       "      <th>order_id</th>\n",
       "      <th>user_id</th>\n",
       "      <th>eval_set</th>\n",
       "      <th>order_number</th>\n",
       "      <th>order_dow</th>\n",
       "      <th>order_hour_of_day</th>\n",
       "      <th>days_since_prior_order</th>\n",
       "      <th>product_id</th>\n",
       "      <th>add_to_cart_order</th>\n",
       "      <th>reordered</th>\n",
       "      <th>product_name</th>\n",
       "      <th>aisle_id</th>\n",
       "      <th>department_id</th>\n",
       "    </tr>\n",
       "  </thead>\n",
       "  <tbody>\n",
       "    <tr>\n",
       "      <th>0</th>\n",
       "      <td>611214</td>\n",
       "      <td>24</td>\n",
       "      <td>prior</td>\n",
       "      <td>1</td>\n",
       "      <td>3</td>\n",
       "      <td>20</td>\n",
       "      <td>0.0</td>\n",
       "      <td>31222</td>\n",
       "      <td>1</td>\n",
       "      <td>0</td>\n",
       "      <td>100% Juice, Variety Pack</td>\n",
       "      <td>98</td>\n",
       "      <td>7</td>\n",
       "    </tr>\n",
       "    <tr>\n",
       "      <th>1</th>\n",
       "      <td>1511050</td>\n",
       "      <td>24</td>\n",
       "      <td>prior</td>\n",
       "      <td>3</td>\n",
       "      <td>3</td>\n",
       "      <td>21</td>\n",
       "      <td>30.0</td>\n",
       "      <td>31222</td>\n",
       "      <td>1</td>\n",
       "      <td>1</td>\n",
       "      <td>100% Juice, Variety Pack</td>\n",
       "      <td>98</td>\n",
       "      <td>7</td>\n",
       "    </tr>\n",
       "    <tr>\n",
       "      <th>2</th>\n",
       "      <td>118133</td>\n",
       "      <td>24</td>\n",
       "      <td>prior</td>\n",
       "      <td>5</td>\n",
       "      <td>0</td>\n",
       "      <td>11</td>\n",
       "      <td>30.0</td>\n",
       "      <td>31222</td>\n",
       "      <td>1</td>\n",
       "      <td>1</td>\n",
       "      <td>100% Juice, Variety Pack</td>\n",
       "      <td>98</td>\n",
       "      <td>7</td>\n",
       "    </tr>\n",
       "    <tr>\n",
       "      <th>3</th>\n",
       "      <td>3064712</td>\n",
       "      <td>24</td>\n",
       "      <td>prior</td>\n",
       "      <td>8</td>\n",
       "      <td>1</td>\n",
       "      <td>20</td>\n",
       "      <td>8.0</td>\n",
       "      <td>31222</td>\n",
       "      <td>2</td>\n",
       "      <td>1</td>\n",
       "      <td>100% Juice, Variety Pack</td>\n",
       "      <td>98</td>\n",
       "      <td>7</td>\n",
       "    </tr>\n",
       "    <tr>\n",
       "      <th>4</th>\n",
       "      <td>3320181</td>\n",
       "      <td>24</td>\n",
       "      <td>prior</td>\n",
       "      <td>11</td>\n",
       "      <td>4</td>\n",
       "      <td>14</td>\n",
       "      <td>6.0</td>\n",
       "      <td>31222</td>\n",
       "      <td>1</td>\n",
       "      <td>1</td>\n",
       "      <td>100% Juice, Variety Pack</td>\n",
       "      <td>98</td>\n",
       "      <td>7</td>\n",
       "    </tr>\n",
       "  </tbody>\n",
       "</table>\n",
       "</div>"
      ],
      "text/plain": [
       "   order_id  user_id eval_set  order_number  order_dow  order_hour_of_day  \\\n",
       "0    611214       24    prior             1          3                 20   \n",
       "1   1511050       24    prior             3          3                 21   \n",
       "2    118133       24    prior             5          0                 11   \n",
       "3   3064712       24    prior             8          1                 20   \n",
       "4   3320181       24    prior            11          4                 14   \n",
       "\n",
       "   days_since_prior_order  product_id  add_to_cart_order  reordered  \\\n",
       "0                     0.0       31222                  1          0   \n",
       "1                    30.0       31222                  1          1   \n",
       "2                    30.0       31222                  1          1   \n",
       "3                     8.0       31222                  2          1   \n",
       "4                     6.0       31222                  1          1   \n",
       "\n",
       "               product_name  aisle_id  department_id  \n",
       "0  100% Juice, Variety Pack        98              7  \n",
       "1  100% Juice, Variety Pack        98              7  \n",
       "2  100% Juice, Variety Pack        98              7  \n",
       "3  100% Juice, Variety Pack        98              7  \n",
       "4  100% Juice, Variety Pack        98              7  "
      ]
     },
     "execution_count": 135,
     "metadata": {},
     "output_type": "execute_result"
    }
   ],
   "source": [
    "# Fill missing data\n",
    "data_samp[\"days_since_prior_order\"] = data_samp[\"days_since_prior_order\"].fillna(0) \n",
    "\n",
    "data_samp.head()"
   ]
  },
  {
   "cell_type": "markdown",
   "metadata": {},
   "source": [
    "### Feature engineering\n",
    "1) Provide new Provide new monotonically increasing indices for each categorical feature  \n",
    "2) Scale \"days since prior order\", \"order number\"  "
   ]
  },
  {
   "cell_type": "code",
   "execution_count": 136,
   "metadata": {},
   "outputs": [],
   "source": [
    "# Generate vocabulary for all available levels of each categorical feature\n",
    "# Provide new monotonically increasing indices for each starting at 0\n",
    "\n",
    "user_vocab = sorted(data_samp.user_id.unique())\n",
    "user_vocab_size = len(user_vocab)\n",
    "user_id_idx = dict(zip(user_vocab,range(user_vocab_size)))\n",
    "data_samp[\"new_user_id\"] = data_samp[\"user_id\"].apply(lambda x: user_id_idx[x])\n",
    "\n",
    "\n",
    "product_vocab = sorted(data_samp.product_id.unique())\n",
    "product_vocab_size = len(product_vocab)\n",
    "prod_id_idx = dict(zip(product_vocab,range(product_vocab_size)))\n",
    "data_samp[\"new_product_id\"] = data_samp[\"product_id\"].apply(lambda x: prod_id_idx[x])\n",
    "\n",
    "\n",
    "aisle_vocab = data_samp.aisle_id.unique()\n",
    "aisle_vocab_size = len(aisle_vocab)\n",
    "aisle_id_idx = dict(zip(aisle_vocab,range(aisle_vocab_size)))\n",
    "data_samp[\"new_aisle_id\"] = data_samp[\"aisle_id\"].apply(lambda x: aisle_id_idx[x])\n",
    "\n",
    "dept_vocab = data_samp.department_id.unique()\n",
    "dept_vocab_size = len(dept_vocab)\n",
    "dept_id_idx = dict(zip(dept_vocab,range(dept_vocab_size)))\n",
    "data_samp[\"new_department_id\"] = data_samp[\"department_id\"].apply(lambda x: dept_id_idx[x])"
   ]
  },
  {
   "cell_type": "code",
   "execution_count": 137,
   "metadata": {},
   "outputs": [],
   "source": [
    "# Scale relevant numeric features\n",
    "from sklearn import preprocessing\n",
    "\n",
    "col_names = [\"days_since_prior_order\",\"order_number\"]\n",
    "\n",
    "# Create subset for scaling\n",
    "x = data_samp[col_names].values.astype(float)\n",
    "\n",
    "# Create a scaler and apply it\n",
    "min_max_scaler = preprocessing.StandardScaler()\n",
    "x_scaled = min_max_scaler.fit_transform(x)\n",
    "\n",
    "# Run the normalizer on the dataframe\n",
    "df_normalized = pd.DataFrame(x_scaled)\n",
    "df_normalized.columns = col_names\n",
    "# df_normalized.head()\n",
    "\n",
    "# Add back to the original DF\n",
    "\n",
    "data_samp[col_names] = df_normalized"
   ]
  },
  {
   "cell_type": "code",
   "execution_count": 138,
   "metadata": {},
   "outputs": [
    {
     "data": {
      "text/html": [
       "<div>\n",
       "<style scoped>\n",
       "    .dataframe tbody tr th:only-of-type {\n",
       "        vertical-align: middle;\n",
       "    }\n",
       "\n",
       "    .dataframe tbody tr th {\n",
       "        vertical-align: top;\n",
       "    }\n",
       "\n",
       "    .dataframe thead th {\n",
       "        text-align: right;\n",
       "    }\n",
       "</style>\n",
       "<table border=\"1\" class=\"dataframe\">\n",
       "  <thead>\n",
       "    <tr style=\"text-align: right;\">\n",
       "      <th></th>\n",
       "      <th>order_id</th>\n",
       "      <th>user_id</th>\n",
       "      <th>eval_set</th>\n",
       "      <th>order_number</th>\n",
       "      <th>order_dow</th>\n",
       "      <th>order_hour_of_day</th>\n",
       "      <th>days_since_prior_order</th>\n",
       "      <th>product_id</th>\n",
       "      <th>add_to_cart_order</th>\n",
       "      <th>reordered</th>\n",
       "      <th>product_name</th>\n",
       "      <th>aisle_id</th>\n",
       "      <th>department_id</th>\n",
       "      <th>new_user_id</th>\n",
       "      <th>new_product_id</th>\n",
       "      <th>new_aisle_id</th>\n",
       "      <th>new_department_id</th>\n",
       "    </tr>\n",
       "  </thead>\n",
       "  <tbody>\n",
       "    <tr>\n",
       "      <th>0</th>\n",
       "      <td>611214</td>\n",
       "      <td>24</td>\n",
       "      <td>prior</td>\n",
       "      <td>-0.918500</td>\n",
       "      <td>3</td>\n",
       "      <td>20</td>\n",
       "      <td>-1.178444</td>\n",
       "      <td>31222</td>\n",
       "      <td>1</td>\n",
       "      <td>0</td>\n",
       "      <td>100% Juice, Variety Pack</td>\n",
       "      <td>98</td>\n",
       "      <td>7</td>\n",
       "      <td>0</td>\n",
       "      <td>22509</td>\n",
       "      <td>0</td>\n",
       "      <td>0</td>\n",
       "    </tr>\n",
       "    <tr>\n",
       "      <th>1</th>\n",
       "      <td>1511050</td>\n",
       "      <td>24</td>\n",
       "      <td>prior</td>\n",
       "      <td>-0.805098</td>\n",
       "      <td>3</td>\n",
       "      <td>21</td>\n",
       "      <td>2.115236</td>\n",
       "      <td>31222</td>\n",
       "      <td>1</td>\n",
       "      <td>1</td>\n",
       "      <td>100% Juice, Variety Pack</td>\n",
       "      <td>98</td>\n",
       "      <td>7</td>\n",
       "      <td>0</td>\n",
       "      <td>22509</td>\n",
       "      <td>0</td>\n",
       "      <td>0</td>\n",
       "    </tr>\n",
       "    <tr>\n",
       "      <th>2</th>\n",
       "      <td>118133</td>\n",
       "      <td>24</td>\n",
       "      <td>prior</td>\n",
       "      <td>-0.691695</td>\n",
       "      <td>0</td>\n",
       "      <td>11</td>\n",
       "      <td>2.115236</td>\n",
       "      <td>31222</td>\n",
       "      <td>1</td>\n",
       "      <td>1</td>\n",
       "      <td>100% Juice, Variety Pack</td>\n",
       "      <td>98</td>\n",
       "      <td>7</td>\n",
       "      <td>0</td>\n",
       "      <td>22509</td>\n",
       "      <td>0</td>\n",
       "      <td>0</td>\n",
       "    </tr>\n",
       "    <tr>\n",
       "      <th>3</th>\n",
       "      <td>3064712</td>\n",
       "      <td>24</td>\n",
       "      <td>prior</td>\n",
       "      <td>-0.521592</td>\n",
       "      <td>1</td>\n",
       "      <td>20</td>\n",
       "      <td>-0.300130</td>\n",
       "      <td>31222</td>\n",
       "      <td>2</td>\n",
       "      <td>1</td>\n",
       "      <td>100% Juice, Variety Pack</td>\n",
       "      <td>98</td>\n",
       "      <td>7</td>\n",
       "      <td>0</td>\n",
       "      <td>22509</td>\n",
       "      <td>0</td>\n",
       "      <td>0</td>\n",
       "    </tr>\n",
       "    <tr>\n",
       "      <th>4</th>\n",
       "      <td>3320181</td>\n",
       "      <td>24</td>\n",
       "      <td>prior</td>\n",
       "      <td>-0.351488</td>\n",
       "      <td>4</td>\n",
       "      <td>14</td>\n",
       "      <td>-0.519708</td>\n",
       "      <td>31222</td>\n",
       "      <td>1</td>\n",
       "      <td>1</td>\n",
       "      <td>100% Juice, Variety Pack</td>\n",
       "      <td>98</td>\n",
       "      <td>7</td>\n",
       "      <td>0</td>\n",
       "      <td>22509</td>\n",
       "      <td>0</td>\n",
       "      <td>0</td>\n",
       "    </tr>\n",
       "  </tbody>\n",
       "</table>\n",
       "</div>"
      ],
      "text/plain": [
       "   order_id  user_id eval_set  order_number  order_dow  order_hour_of_day  \\\n",
       "0    611214       24    prior     -0.918500          3                 20   \n",
       "1   1511050       24    prior     -0.805098          3                 21   \n",
       "2    118133       24    prior     -0.691695          0                 11   \n",
       "3   3064712       24    prior     -0.521592          1                 20   \n",
       "4   3320181       24    prior     -0.351488          4                 14   \n",
       "\n",
       "   days_since_prior_order  product_id  add_to_cart_order  reordered  \\\n",
       "0               -1.178444       31222                  1          0   \n",
       "1                2.115236       31222                  1          1   \n",
       "2                2.115236       31222                  1          1   \n",
       "3               -0.300130       31222                  2          1   \n",
       "4               -0.519708       31222                  1          1   \n",
       "\n",
       "               product_name  aisle_id  department_id  new_user_id  \\\n",
       "0  100% Juice, Variety Pack        98              7            0   \n",
       "1  100% Juice, Variety Pack        98              7            0   \n",
       "2  100% Juice, Variety Pack        98              7            0   \n",
       "3  100% Juice, Variety Pack        98              7            0   \n",
       "4  100% Juice, Variety Pack        98              7            0   \n",
       "\n",
       "   new_product_id  new_aisle_id  new_department_id  \n",
       "0           22509             0                  0  \n",
       "1           22509             0                  0  \n",
       "2           22509             0                  0  \n",
       "3           22509             0                  0  \n",
       "4           22509             0                  0  "
      ]
     },
     "execution_count": 138,
     "metadata": {},
     "output_type": "execute_result"
    }
   ],
   "source": [
    "data_samp.head()"
   ]
  },
  {
   "cell_type": "code",
   "execution_count": 139,
   "metadata": {},
   "outputs": [
    {
     "name": "stdout",
     "output_type": "stream",
     "text": [
      "Unique users: 10000, products: 35886, aisles: 134, departments: 21\n"
     ]
    }
   ],
   "source": [
    "print(\"Unique users: {}, products: {}, aisles: {}, departments: {}\"\n",
    "      .format(user_vocab_size, product_vocab_size,aisle_vocab_size,dept_vocab_size))"
   ]
  },
  {
   "cell_type": "markdown",
   "metadata": {},
   "source": [
    "### Split into train and test"
   ]
  },
  {
   "cell_type": "code",
   "execution_count": 140,
   "metadata": {
    "collapsed": true
   },
   "outputs": [],
   "source": [
    "train_subset = data_samp[data_samp[\"eval_set\"]==\"prior\"]\n",
    "target_subset = data_samp[data_samp[\"eval_set\"]==\"train\"]"
   ]
  },
  {
   "cell_type": "code",
   "execution_count": 141,
   "metadata": {},
   "outputs": [
    {
     "name": "stdout",
     "output_type": "stream",
     "text": [
      "(1592914, 17) (68162, 17)\n"
     ]
    }
   ],
   "source": [
    "print(train_subset.shape, target_subset.shape)"
   ]
  },
  {
   "cell_type": "code",
   "execution_count": 142,
   "metadata": {
    "collapsed": true
   },
   "outputs": [],
   "source": [
    "train_subset.to_csv(\"processed_data/nn_train_subset.csv\", index=False)\n",
    "target_subset.to_csv(\"processed_data/nn_target_subset.csv\", index=False)"
   ]
  },
  {
   "cell_type": "markdown",
   "metadata": {},
   "source": [
    "### Build model"
   ]
  },
  {
   "cell_type": "markdown",
   "metadata": {},
   "source": [
    "We build a neural network 1 with the following inputs:  \n",
    "1) 3 categorical features are projected to embedding layers  \n",
    "2) Integer features are consumed as is  \n",
    "3) Information on the order_id is not used  "
   ]
  },
  {
   "cell_type": "code",
   "execution_count": 116,
   "metadata": {
    "collapsed": true
   },
   "outputs": [],
   "source": [
    "cat_columns = [\"user_id\",\"product_id\",\"aisle_id\",\"department_id\"]\n",
    "num_columns = [\"order_number\", \"order_dow\",\"order_hour_of_day\",\"days_since_prior_order\",\"add_to_cart_order\"]"
   ]
  },
  {
   "cell_type": "code",
   "execution_count": 117,
   "metadata": {},
   "outputs": [
    {
     "data": {
      "text/plain": [
       "Index(['order_id', 'user_id', 'eval_set', 'order_number', 'order_dow',\n",
       "       'order_hour_of_day', 'days_since_prior_order', 'product_id',\n",
       "       'add_to_cart_order', 'reordered', 'product_name', 'aisle_id',\n",
       "       'department_id', 'new_user_id', 'new_product_id', 'new_aisle_id',\n",
       "       'new_department_id'],\n",
       "      dtype='object')"
      ]
     },
     "execution_count": 117,
     "metadata": {},
     "output_type": "execute_result"
    }
   ],
   "source": [
    "train_subset.columns"
   ]
  },
  {
   "cell_type": "code",
   "execution_count": 118,
   "metadata": {},
   "outputs": [],
   "source": [
    "latent_dim_user = 10\n",
    "latent_dim_product = 20\n",
    "latent_dim_aisle = 10\n",
    "latent_dim_dept = 5\n",
    "\n",
    "\n",
    "user_input = Input(shape=[1], name=\"User-Input\")\n",
    "user_embedding = Embedding(user_vocab_size, latent_dim_user, name=\"User-Embedding\")(user_input)  \n",
    "user_vec = Flatten(name=\"Flatten-Users\")(user_embedding) # make a vector for the concat\n",
    "\n",
    "prod_input = Input(shape=[1], name=\"Product-Input\")\n",
    "prod_embedding = Embedding(product_vocab_size, latent_dim_product, name=\"Product-Embedding\")(prod_input)  \n",
    "# dropout_0 = Dropout(0.5,name='Dropout-0')(prod_embedding)\n",
    "prod_vec = Flatten(name=\"Flatten-Products\")(prod_embedding) # make a vector for the concat\n",
    "\n",
    "aisle_input = Input(shape=[1], name=\"Aisle-Input\")\n",
    "aisle_embedding = Embedding(aisle_vocab_size, latent_dim_aisle, name=\"Aisle-Embedding\")(aisle_input)\n",
    "aisle_vec = Flatten(name=\"Flatten-Aisles\")(aisle_embedding) # make a vector for the concat\n",
    "\n",
    "dept_input = Input(shape=[1], name=\"Dept-Input\")\n",
    "dept_embedding = Embedding(aisle_vocab_size, latent_dim_aisle, name=\"Dept-Embedding\")(dept_input)\n",
    "dept_vec = Flatten(name=\"Flatten-Depts\")(dept_embedding) # make a vector for the concat\n",
    "\n",
    "num_input = Input(shape=[5], name=\"Numeric-Input\")\n",
    "\n",
    "concat = Concatenate()([user_vec, prod_vec, aisle_vec, dept_vec, num_input])\n",
    "\n",
    "dense_1 = Dense(55,name='FullyConnected-1',activation='relu')(concat)\n",
    "dropout_1 = Dropout(0.5,name='Dropout-1')(dense_1)\n",
    "\n",
    "dense_2 = Dense(20,name='FullyConnected-2',activation='relu')(dropout_1)\n",
    "dropout_2 = Dropout(0.5,name='Dropout-2')(dense_2)\n",
    "\n",
    "# dense_3 = Dense(10,name='FullyConnected-3',activation='relu')(dropout_2)\n",
    "# dropout_3 = Dropout(0.5,name='Dropout-3')(dense_3)\n",
    "\n",
    "output = Dense(1,name='FullyConnected-Output', activation='sigmoid')(dropout_2)\n",
    "\n",
    "model = Model([user_input, prod_input, aisle_input, dept_input, num_input], output)\n",
    "model.compile(loss='binary_crossentropy', optimizer='adam', metrics=['accuracy'])\n"
   ]
  },
  {
   "cell_type": "code",
   "execution_count": 119,
   "metadata": {
    "collapsed": true
   },
   "outputs": [],
   "source": [
    "# del model"
   ]
  },
  {
   "cell_type": "code",
   "execution_count": 120,
   "metadata": {},
   "outputs": [
    {
     "name": "stdout",
     "output_type": "stream",
     "text": [
      "__________________________________________________________________________________________________\n",
      "Layer (type)                    Output Shape         Param #     Connected to                     \n",
      "==================================================================================================\n",
      "User-Input (InputLayer)         (None, 1)            0                                            \n",
      "__________________________________________________________________________________________________\n",
      "Product-Input (InputLayer)      (None, 1)            0                                            \n",
      "__________________________________________________________________________________________________\n",
      "Aisle-Input (InputLayer)        (None, 1)            0                                            \n",
      "__________________________________________________________________________________________________\n",
      "Dept-Input (InputLayer)         (None, 1)            0                                            \n",
      "__________________________________________________________________________________________________\n",
      "User-Embedding (Embedding)      (None, 1, 10)        40000       User-Input[0][0]                 \n",
      "__________________________________________________________________________________________________\n",
      "Product-Embedding (Embedding)   (None, 1, 20)        547640      Product-Input[0][0]              \n",
      "__________________________________________________________________________________________________\n",
      "Aisle-Embedding (Embedding)     (None, 1, 10)        1340        Aisle-Input[0][0]                \n",
      "__________________________________________________________________________________________________\n",
      "Dept-Embedding (Embedding)      (None, 1, 10)        1340        Dept-Input[0][0]                 \n",
      "__________________________________________________________________________________________________\n",
      "Flatten-Users (Flatten)         (None, 10)           0           User-Embedding[0][0]             \n",
      "__________________________________________________________________________________________________\n",
      "Flatten-Products (Flatten)      (None, 20)           0           Product-Embedding[0][0]          \n",
      "__________________________________________________________________________________________________\n",
      "Flatten-Aisles (Flatten)        (None, 10)           0           Aisle-Embedding[0][0]            \n",
      "__________________________________________________________________________________________________\n",
      "Flatten-Depts (Flatten)         (None, 10)           0           Dept-Embedding[0][0]             \n",
      "__________________________________________________________________________________________________\n",
      "Numeric-Input (InputLayer)      (None, 5)            0                                            \n",
      "__________________________________________________________________________________________________\n",
      "concatenate_6 (Concatenate)     (None, 55)           0           Flatten-Users[0][0]              \n",
      "                                                                 Flatten-Products[0][0]           \n",
      "                                                                 Flatten-Aisles[0][0]             \n",
      "                                                                 Flatten-Depts[0][0]              \n",
      "                                                                 Numeric-Input[0][0]              \n",
      "__________________________________________________________________________________________________\n",
      "FullyConnected-1 (Dense)        (None, 55)           3080        concatenate_6[0][0]              \n",
      "__________________________________________________________________________________________________\n",
      "Dropout-1 (Dropout)             (None, 55)           0           FullyConnected-1[0][0]           \n",
      "__________________________________________________________________________________________________\n",
      "FullyConnected-2 (Dense)        (None, 20)           1120        Dropout-1[0][0]                  \n",
      "__________________________________________________________________________________________________\n",
      "Dropout-2 (Dropout)             (None, 20)           0           FullyConnected-2[0][0]           \n",
      "__________________________________________________________________________________________________\n",
      "FullyConnected-Output (Dense)   (None, 1)            21          Dropout-2[0][0]                  \n",
      "==================================================================================================\n",
      "Total params: 594,541\n",
      "Trainable params: 594,541\n",
      "Non-trainable params: 0\n",
      "__________________________________________________________________________________________________\n"
     ]
    }
   ],
   "source": [
    "model.summary()"
   ]
  },
  {
   "cell_type": "code",
   "execution_count": 121,
   "metadata": {},
   "outputs": [
    {
     "name": "stdout",
     "output_type": "stream",
     "text": [
      "Train on 568422 samples, validate on 63159 samples\n",
      "Epoch 1/20\n",
      "568422/568422 [==============================] - 7s 12us/step - loss: 0.6770 - acc: 0.6380 - val_loss: 0.5852 - val_acc: 0.7136\n",
      "Epoch 2/20\n",
      "568422/568422 [==============================] - 6s 10us/step - loss: 0.5375 - acc: 0.7417 - val_loss: 0.5526 - val_acc: 0.7189\n",
      "Epoch 3/20\n",
      "568422/568422 [==============================] - 6s 10us/step - loss: 0.5096 - acc: 0.7588 - val_loss: 0.5435 - val_acc: 0.7220\n",
      "Epoch 4/20\n",
      "568422/568422 [==============================] - 6s 10us/step - loss: 0.4933 - acc: 0.7671 - val_loss: 0.5382 - val_acc: 0.7230\n",
      "Epoch 5/20\n",
      "568422/568422 [==============================] - 6s 10us/step - loss: 0.4810 - acc: 0.7736 - val_loss: 0.5342 - val_acc: 0.7256\n",
      "Epoch 6/20\n",
      "568422/568422 [==============================] - 6s 10us/step - loss: 0.4717 - acc: 0.7781 - val_loss: 0.5370 - val_acc: 0.7255\n",
      "Epoch 7/20\n",
      "568422/568422 [==============================] - 6s 10us/step - loss: 0.4655 - acc: 0.7809 - val_loss: 0.5358 - val_acc: 0.7272\n",
      "Epoch 8/20\n",
      "568422/568422 [==============================] - 6s 10us/step - loss: 0.4600 - acc: 0.7829 - val_loss: 0.5363 - val_acc: 0.7282\n",
      "Epoch 9/20\n",
      "568422/568422 [==============================] - 6s 10us/step - loss: 0.4553 - acc: 0.7857 - val_loss: 0.5404 - val_acc: 0.7290\n"
     ]
    }
   ],
   "source": [
    "# Set callback functions to early stop training and save the best model so far\n",
    "callbacks = [EarlyStopping(monitor='val_loss', patience=4),\n",
    "             ModelCheckpoint(filepath='best_model.h5', monitor='val_loss', save_best_only=True)]\n",
    "\n",
    "\n",
    "history = model.fit([train_subset.new_user_id, train_subset.new_product_id, \n",
    "                     train_subset.new_aisle_id, train_subset.new_department_id,\n",
    "                    train_subset[num_columns]], \n",
    "                    train_subset.reordered,\n",
    "                    callbacks=callbacks,\n",
    "                    validation_split = 0.1,\n",
    "                    batch_size=1000,\n",
    "                    epochs=20, verbose=1)\n",
    "model.save('classification_model.h5')"
   ]
  },
  {
   "cell_type": "code",
   "execution_count": 122,
   "metadata": {},
   "outputs": [
    {
     "data": {
      "text/plain": [
       "Text(0, 0.5, 'Train Error')"
      ]
     },
     "execution_count": 122,
     "metadata": {},
     "output_type": "execute_result"
    },
    {
     "data": {
      "image/png": "[encoded data removed]",
      "text/plain": [
       "<Figure size 432x288 with 1 Axes>"
      ]
     },
     "metadata": {},
     "output_type": "display_data"
    }
   ],
   "source": [
    "%matplotlib inline\n",
    "\n",
    "pd.Series(history.history['loss']).plot()\n",
    "pd.Series(history.history['val_loss']).plot()\n",
    "plt.xlabel(\"Epoch\")\n",
    "plt.ylabel(\"Train Error\")"
   ]
  },
  {
   "cell_type": "markdown",
   "metadata": {},
   "source": [
    "In seems that the model starts to overfit already in the first training epochs"
   ]
  },
  {
   "cell_type": "code",
   "execution_count": 123,
   "metadata": {
    "collapsed": true
   },
   "outputs": [],
   "source": [
    "# Extract embeddings for users\n",
    "user_em = model.get_layer('User-Embedding')\n",
    "user_em_weights = user_em.get_weights()[0]\n",
    "\n",
    "# Extract embeddings for products\n",
    "prod_em = model.get_layer('Product-Embedding')\n",
    "prod_em_weights = prod_em.get_weights()[0]\n",
    "\n",
    "# Extract embeddings for aisles\n",
    "aisle_em = model.get_layer('Aisle-Embedding')\n",
    "aisle_em_weights = aisle_em.get_weights()[0]\n",
    "\n",
    "# Extract embeddings for departments\n",
    "dept_em = model.get_layer('Dept-Embedding')\n",
    "dept_em_weights = dept_em.get_weights()[0]"
   ]
  },
  {
   "cell_type": "markdown",
   "metadata": {},
   "source": [
    "Each product id has received *n* coordinates in the product embedding space (correspondent to latent_dim parameter)  \n",
    "Each department has received *m* coordinates in the user embedding space"
   ]
  },
  {
   "cell_type": "code",
   "execution_count": 124,
   "metadata": {},
   "outputs": [
    {
     "name": "stdout",
     "output_type": "stream",
     "text": [
      "(4000, 10) (27382, 20) (134, 10) (134, 10)\n"
     ]
    }
   ],
   "source": [
    "print(user_em_weights.shape, prod_em_weights.shape, aisle_em_weights.shape, dept_em_weights.shape)"
   ]
  },
  {
   "cell_type": "markdown",
   "metadata": {},
   "source": [
    "Is there any structure in this space - are the products somehow separated from each other?"
   ]
  },
  {
   "cell_type": "code",
   "execution_count": 125,
   "metadata": {},
   "outputs": [
    {
     "data": {
      "text/plain": [
       "Text(0.5, 1.0, 'PCA: Department Embeddings')"
      ]
     },
     "execution_count": 125,
     "metadata": {},
     "output_type": "execute_result"
    },
    {
     "data": {
      "image/png": "[encoded data removed]",
      "text/plain": [
       "<Figure size 864x576 with 4 Axes>"
      ]
     },
     "metadata": {},
     "output_type": "display_data"
    }
   ],
   "source": [
    "from sklearn.decomposition import PCA\n",
    "import seaborn as sns; sns.set()\n",
    "import matplotlib.pyplot as plt\n",
    "\n",
    "pca = PCA(n_components=2)\n",
    "\n",
    "user_pca_result = pca.fit_transform(user_em_weights)\n",
    "prod_pca_result = pca.fit_transform(prod_em_weights)\n",
    "aisle_pca_result = pca.fit_transform(aisle_em_weights)\n",
    "dept_pca_result = pca.fit_transform(dept_em_weights)\n",
    "\n",
    "# prepare image and figure\n",
    "fig, ((ax1, ax2), (ax3, ax4)) = plt.subplots(2, 2,figsize = (12,8))\n",
    "\n",
    "ax1.scatter(x=user_pca_result[:,0], y=user_pca_result[:,1],alpha=0.7,s=1)\n",
    "ax1.set_title(\"PCA: User Embeddings\")\n",
    "ax2.scatter(x=prod_pca_result[:,0], y=prod_pca_result[:,1],alpha=0.7,s=1)\n",
    "ax2.set_title(\"PCA: Product Embeddings\")\n",
    "ax3.scatter(x=aisle_pca_result[:,0], y=aisle_pca_result[:,1],alpha=0.7,s=4)\n",
    "ax3.set_title(\"PCA: Aisle Embeddings\")\n",
    "ax4.scatter(x=dept_pca_result[:,0], y=dept_pca_result[:,1],alpha=0.7,s=8)\n",
    "ax4.set_title(\"PCA: Department Embeddings\")\n",
    "\n"
   ]
  },
  {
   "cell_type": "markdown",
   "metadata": {},
   "source": [
    "There is a clear structure that separates products, and it is more complex than 2 dimensions"
   ]
  },
  {
   "cell_type": "markdown",
   "metadata": {},
   "source": [
    "For users, it also looks like both dimensions show distances between departments that are sufficient to identify clusters"
   ]
  },
  {
   "cell_type": "markdown",
   "metadata": {},
   "source": [
    "### Evaluate the model\n"
   ]
  },
  {
   "cell_type": "code",
   "execution_count": 126,
   "metadata": {},
   "outputs": [],
   "source": [
    "predictions = model.predict([target_subset.new_user_id,target_subset.new_product_id, \n",
    "                             target_subset.new_aisle_id, target_subset.new_department_id,\n",
    "                             target_subset[num_columns]])"
   ]
  },
  {
   "cell_type": "code",
   "execution_count": 127,
   "metadata": {},
   "outputs": [
    {
     "name": "stderr",
     "output_type": "stream",
     "text": [
      "/Users/dima/anaconda3/lib/python3.6/site-packages/ipykernel_launcher.py:2: SettingWithCopyWarning: \n",
      "A value is trying to be set on a copy of a slice from a DataFrame.\n",
      "Try using .loc[row_indexer,col_indexer] = value instead\n",
      "\n",
      "See the caveats in the documentation: http://pandas.pydata.org/pandas-docs/stable/indexing.html#indexing-view-versus-copy\n",
      "  \n",
      "/Users/dima/anaconda3/lib/python3.6/site-packages/pandas/core/indexing.py:357: SettingWithCopyWarning: \n",
      "A value is trying to be set on a copy of a slice from a DataFrame.\n",
      "Try using .loc[row_indexer,col_indexer] = value instead\n",
      "\n",
      "See the caveats in the documentation: http://pandas.pydata.org/pandas-docs/stable/indexing.html#indexing-view-versus-copy\n",
      "  self.obj[key] = _infer_fill_value(value)\n",
      "/Users/dima/anaconda3/lib/python3.6/site-packages/pandas/core/indexing.py:537: SettingWithCopyWarning: \n",
      "A value is trying to be set on a copy of a slice from a DataFrame.\n",
      "Try using .loc[row_indexer,col_indexer] = value instead\n",
      "\n",
      "See the caveats in the documentation: http://pandas.pydata.org/pandas-docs/stable/indexing.html#indexing-view-versus-copy\n",
      "  self.obj[item] = s\n"
     ]
    }
   ],
   "source": [
    "out = target_subset\n",
    "out[\"pred_prob\"] = predictions\n",
    "\n",
    "thresh = 0.5\n",
    "\n",
    "out.loc[out[\"pred_prob\"]>thresh,\"pred_label\"] = 1\n",
    "out.loc[out[\"pred_prob\"]<=thresh,\"pred_label\"] = 0\n",
    "# out.head(10)"
   ]
  },
  {
   "cell_type": "code",
   "execution_count": 128,
   "metadata": {},
   "outputs": [
    {
     "data": {
      "text/plain": [
       "count    2.703700e+04\n",
       "mean     5.724003e-01\n",
       "std      2.857165e-01\n",
       "min      5.027156e-12\n",
       "25%      3.456322e-01\n",
       "50%      6.251009e-01\n",
       "75%      8.136254e-01\n",
       "max      9.995782e-01\n",
       "Name: pred_prob, dtype: float64"
      ]
     },
     "execution_count": 128,
     "metadata": {},
     "output_type": "execute_result"
    },
    {
     "data": {
      "image/png": "[encoded data removed]",
      "text/plain": [
       "<Figure size 432x288 with 1 Axes>"
      ]
     },
     "metadata": {},
     "output_type": "display_data"
    }
   ],
   "source": [
    "out.pred_prob.plot.hist()\n",
    "out.pred_prob.describe()"
   ]
  },
  {
   "cell_type": "code",
   "execution_count": 129,
   "metadata": {},
   "outputs": [
    {
     "name": "stdout",
     "output_type": "stream",
     "text": [
      "Accuracy: 70.58%\n",
      "vs. baseline 60.21%\n"
     ]
    }
   ],
   "source": [
    "y_test = out[\"reordered\"]\n",
    "predictions = out[\"pred_label\"]\n",
    "\n",
    "acc_baseline = y_test.reset_index().groupby(\"reordered\").count()\n",
    "acc_baseline[\"class_share\"] = acc_baseline[\"index\"]/ acc_baseline[\"index\"].sum()\n",
    "acc_baseline[\"class_share\"].max()\n",
    "\n",
    "from sklearn.metrics import accuracy_score, confusion_matrix, f1_score\n",
    "\n",
    "accuracy = accuracy_score(y_test, predictions)\n",
    "print(\"Accuracy: %.2f%%\" % (accuracy * 100.0))\n",
    "print(\"vs. baseline {:.2%}\".format(acc_baseline[\"class_share\"].max().astype(\"float\")))"
   ]
  },
  {
   "cell_type": "code",
   "execution_count": 130,
   "metadata": {},
   "outputs": [
    {
     "data": {
      "text/plain": [
       "<Figure size 432x288 with 0 Axes>"
      ]
     },
     "metadata": {},
     "output_type": "display_data"
    }
   ],
   "source": [
    "%run plot_confusion_matrix.py"
   ]
  },
  {
   "cell_type": "code",
   "execution_count": 131,
   "metadata": {},
   "outputs": [
    {
     "name": "stdout",
     "output_type": "stream",
     "text": [
      "Normalized confusion matrix\n"
     ]
    },
    {
     "data": {
      "image/png": "[encoded data removed]",
      "text/plain": [
       "<Figure size 432x288 with 1 Axes>"
      ]
     },
     "metadata": {},
     "output_type": "display_data"
    }
   ],
   "source": [
    "class_names = [\"not reordered\", \"reordered\"]\n",
    "cnf_matrix = confusion_matrix(y_true=y_test, y_pred=predictions)\n",
    "\n",
    "plt.figure()\n",
    "plt.rcParams['figure.figsize'] = [10, 5]\n",
    "plt.grid(False)\n",
    "fig = plot_confusion_matrix(cnf_matrix, classes=class_names,\n",
    "                            normalize=True,\n",
    "                            title='XGBoost Model Confusion Matrix (Normalized)')\n",
    "# fig.rcParams['figure.figsize'] = [5, 5]"
   ]
  },
  {
   "cell_type": "code",
   "execution_count": 132,
   "metadata": {},
   "outputs": [
    {
     "data": {
      "text/plain": [
       "0.7549366932626845"
      ]
     },
     "execution_count": 132,
     "metadata": {},
     "output_type": "execute_result"
    }
   ],
   "source": [
    "f1_score(y_true=y_test, y_pred=predictions)"
   ]
  },
  {
   "cell_type": "markdown",
   "metadata": {},
   "source": [
    "## Model description"
   ]
  },
  {
   "cell_type": "code",
   "execution_count": 246,
   "metadata": {},
   "outputs": [
    {
     "data": {
      "image/svg+xml": [
       "<svg height=\"719pt\" viewBox=\"0.00 0.00 1640.00 719.00\" width=\"1640pt\" xmlns=\"http://www.w3.org/2000/svg\" xmlns:xlink=\"http://www.w3.org/1999/xlink\">\n",
       "<g class=\"graph\" id=\"graph0\" transform=\"scale(1 1) rotate(0) translate(4 715)\">\n",
       "<title>G</title>\n",
       "<polygon fill=\"#ffffff\" points=\"-4,4 -4,-715 1636,-715 1636,4 -4,4\" stroke=\"transparent\"/>\n",
       "<!-- 113262548192 -->\n",
       "<g class=\"node\" id=\"node1\">\n",
       "<title>113262548192</title>\n",
       "<polygon fill=\"none\" points=\"29,-664.5 29,-710.5 302,-710.5 302,-664.5 29,-664.5\" stroke=\"#000000\"/>\n",
       "<text fill=\"#000000\" font-family=\"Times,serif\" font-size=\"14.00\" text-anchor=\"middle\" x=\"102.5\" y=\"-683.8\">User-Input: InputLayer</text>\n",
       "<polyline fill=\"none\" points=\"176,-664.5 176,-710.5 \" stroke=\"#000000\"/>\n",
       "<text fill=\"#000000\" font-family=\"Times,serif\" font-size=\"14.00\" text-anchor=\"middle\" x=\"204\" y=\"-695.3\">input:</text>\n",
       "<polyline fill=\"none\" points=\"176,-687.5 232,-687.5 \" stroke=\"#000000\"/>\n",
       "<text fill=\"#000000\" font-family=\"Times,serif\" font-size=\"14.00\" text-anchor=\"middle\" x=\"204\" y=\"-672.3\">output:</text>\n",
       "<polyline fill=\"none\" points=\"232,-664.5 232,-710.5 \" stroke=\"#000000\"/>\n",
       "<text fill=\"#000000\" font-family=\"Times,serif\" font-size=\"14.00\" text-anchor=\"middle\" x=\"267\" y=\"-695.3\">(None, 1)</text>\n",
       "<polyline fill=\"none\" points=\"232,-687.5 302,-687.5 \" stroke=\"#000000\"/>\n",
       "<text fill=\"#000000\" font-family=\"Times,serif\" font-size=\"14.00\" text-anchor=\"middle\" x=\"267\" y=\"-672.3\">(None, 1)</text>\n",
       "</g>\n",
       "<!-- 113262548304 -->\n",
       "<g class=\"node\" id=\"node5\">\n",
       "<title>113262548304</title>\n",
       "<polygon fill=\"none\" points=\"0,-581.5 0,-627.5 331,-627.5 331,-581.5 0,-581.5\" stroke=\"#000000\"/>\n",
       "<text fill=\"#000000\" font-family=\"Times,serif\" font-size=\"14.00\" text-anchor=\"middle\" x=\"92\" y=\"-600.8\">User-Embedding: Embedding</text>\n",
       "<polyline fill=\"none\" points=\"184,-581.5 184,-627.5 \" stroke=\"#000000\"/>\n",
       "<text fill=\"#000000\" font-family=\"Times,serif\" font-size=\"14.00\" text-anchor=\"middle\" x=\"212\" y=\"-612.3\">input:</text>\n",
       "<polyline fill=\"none\" points=\"184,-604.5 240,-604.5 \" stroke=\"#000000\"/>\n",
       "<text fill=\"#000000\" font-family=\"Times,serif\" font-size=\"14.00\" text-anchor=\"middle\" x=\"212\" y=\"-589.3\">output:</text>\n",
       "<polyline fill=\"none\" points=\"240,-581.5 240,-627.5 \" stroke=\"#000000\"/>\n",
       "<text fill=\"#000000\" font-family=\"Times,serif\" font-size=\"14.00\" text-anchor=\"middle\" x=\"285.5\" y=\"-612.3\">(None, 1)</text>\n",
       "<polyline fill=\"none\" points=\"240,-604.5 331,-604.5 \" stroke=\"#000000\"/>\n",
       "<text fill=\"#000000\" font-family=\"Times,serif\" font-size=\"14.00\" text-anchor=\"middle\" x=\"285.5\" y=\"-589.3\">(None, 1, 10)</text>\n",
       "</g>\n",
       "<!-- 113262548192&#45;&gt;113262548304 -->\n",
       "<g class=\"edge\" id=\"edge1\">\n",
       "<title>113262548192-&gt;113262548304</title>\n",
       "<path d=\"M165.5,-664.3799C165.5,-656.1745 165.5,-646.7679 165.5,-637.8786\" fill=\"none\" stroke=\"#000000\"/>\n",
       "<polygon fill=\"#000000\" points=\"169.0001,-637.784 165.5,-627.784 162.0001,-637.784 169.0001,-637.784\" stroke=\"#000000\"/>\n",
       "</g>\n",
       "<!-- 113262548584 -->\n",
       "<g class=\"node\" id=\"node2\">\n",
       "<title>113262548584</title>\n",
       "<polygon fill=\"none\" points=\"378.5,-664.5 378.5,-710.5 668.5,-710.5 668.5,-664.5 378.5,-664.5\" stroke=\"#000000\"/>\n",
       "<text fill=\"#000000\" font-family=\"Times,serif\" font-size=\"14.00\" text-anchor=\"middle\" x=\"460.5\" y=\"-683.8\">Product-Input: InputLayer</text>\n",
       "<polyline fill=\"none\" points=\"542.5,-664.5 542.5,-710.5 \" stroke=\"#000000\"/>\n",
       "<text fill=\"#000000\" font-family=\"Times,serif\" font-size=\"14.00\" text-anchor=\"middle\" x=\"570.5\" y=\"-695.3\">input:</text>\n",
       "<polyline fill=\"none\" points=\"542.5,-687.5 598.5,-687.5 \" stroke=\"#000000\"/>\n",
       "<text fill=\"#000000\" font-family=\"Times,serif\" font-size=\"14.00\" text-anchor=\"middle\" x=\"570.5\" y=\"-672.3\">output:</text>\n",
       "<polyline fill=\"none\" points=\"598.5,-664.5 598.5,-710.5 \" stroke=\"#000000\"/>\n",
       "<text fill=\"#000000\" font-family=\"Times,serif\" font-size=\"14.00\" text-anchor=\"middle\" x=\"633.5\" y=\"-695.3\">(None, 1)</text>\n",
       "<polyline fill=\"none\" points=\"598.5,-687.5 668.5,-687.5 \" stroke=\"#000000\"/>\n",
       "<text fill=\"#000000\" font-family=\"Times,serif\" font-size=\"14.00\" text-anchor=\"middle\" x=\"633.5\" y=\"-672.3\">(None, 1)</text>\n",
       "</g>\n",
       "<!-- 113262548528 -->\n",
       "<g class=\"node\" id=\"node6\">\n",
       "<title>113262548528</title>\n",
       "<polygon fill=\"none\" points=\"349.5,-581.5 349.5,-627.5 697.5,-627.5 697.5,-581.5 349.5,-581.5\" stroke=\"#000000\"/>\n",
       "<text fill=\"#000000\" font-family=\"Times,serif\" font-size=\"14.00\" text-anchor=\"middle\" x=\"450\" y=\"-600.8\">Product-Embedding: Embedding</text>\n",
       "<polyline fill=\"none\" points=\"550.5,-581.5 550.5,-627.5 \" stroke=\"#000000\"/>\n",
       "<text fill=\"#000000\" font-family=\"Times,serif\" font-size=\"14.00\" text-anchor=\"middle\" x=\"578.5\" y=\"-612.3\">input:</text>\n",
       "<polyline fill=\"none\" points=\"550.5,-604.5 606.5,-604.5 \" stroke=\"#000000\"/>\n",
       "<text fill=\"#000000\" font-family=\"Times,serif\" font-size=\"14.00\" text-anchor=\"middle\" x=\"578.5\" y=\"-589.3\">output:</text>\n",
       "<polyline fill=\"none\" points=\"606.5,-581.5 606.5,-627.5 \" stroke=\"#000000\"/>\n",
       "<text fill=\"#000000\" font-family=\"Times,serif\" font-size=\"14.00\" text-anchor=\"middle\" x=\"652\" y=\"-612.3\">(None, 1)</text>\n",
       "<polyline fill=\"none\" points=\"606.5,-604.5 697.5,-604.5 \" stroke=\"#000000\"/>\n",
       "<text fill=\"#000000\" font-family=\"Times,serif\" font-size=\"14.00\" text-anchor=\"middle\" x=\"652\" y=\"-589.3\">(None, 1, 30)</text>\n",
       "</g>\n",
       "<!-- 113262548584&#45;&gt;113262548528 -->\n",
       "<g class=\"edge\" id=\"edge2\">\n",
       "<title>113262548584-&gt;113262548528</title>\n",
       "<path d=\"M523.5,-664.3799C523.5,-656.1745 523.5,-646.7679 523.5,-637.8786\" fill=\"none\" stroke=\"#000000\"/>\n",
       "<polygon fill=\"#000000\" points=\"527.0001,-637.784 523.5,-627.784 520.0001,-637.784 527.0001,-637.784\" stroke=\"#000000\"/>\n",
       "</g>\n",
       "<!-- 113262549536 -->\n",
       "<g class=\"node\" id=\"node3\">\n",
       "<title>113262549536</title>\n",
       "<polygon fill=\"none\" points=\"744.5,-664.5 744.5,-710.5 1020.5,-710.5 1020.5,-664.5 744.5,-664.5\" stroke=\"#000000\"/>\n",
       "<text fill=\"#000000\" font-family=\"Times,serif\" font-size=\"14.00\" text-anchor=\"middle\" x=\"819.5\" y=\"-683.8\">Aisle-Input: InputLayer</text>\n",
       "<polyline fill=\"none\" points=\"894.5,-664.5 894.5,-710.5 \" stroke=\"#000000\"/>\n",
       "<text fill=\"#000000\" font-family=\"Times,serif\" font-size=\"14.00\" text-anchor=\"middle\" x=\"922.5\" y=\"-695.3\">input:</text>\n",
       "<polyline fill=\"none\" points=\"894.5,-687.5 950.5,-687.5 \" stroke=\"#000000\"/>\n",
       "<text fill=\"#000000\" font-family=\"Times,serif\" font-size=\"14.00\" text-anchor=\"middle\" x=\"922.5\" y=\"-672.3\">output:</text>\n",
       "<polyline fill=\"none\" points=\"950.5,-664.5 950.5,-710.5 \" stroke=\"#000000\"/>\n",
       "<text fill=\"#000000\" font-family=\"Times,serif\" font-size=\"14.00\" text-anchor=\"middle\" x=\"985.5\" y=\"-695.3\">(None, 1)</text>\n",
       "<polyline fill=\"none\" points=\"950.5,-687.5 1020.5,-687.5 \" stroke=\"#000000\"/>\n",
       "<text fill=\"#000000\" font-family=\"Times,serif\" font-size=\"14.00\" text-anchor=\"middle\" x=\"985.5\" y=\"-672.3\">(None, 1)</text>\n",
       "</g>\n",
       "<!-- 113262599024 -->\n",
       "<g class=\"node\" id=\"node7\">\n",
       "<title>113262599024</title>\n",
       "<polygon fill=\"none\" points=\"715.5,-581.5 715.5,-627.5 1049.5,-627.5 1049.5,-581.5 715.5,-581.5\" stroke=\"#000000\"/>\n",
       "<text fill=\"#000000\" font-family=\"Times,serif\" font-size=\"14.00\" text-anchor=\"middle\" x=\"809\" y=\"-600.8\">Aisle-Embedding: Embedding</text>\n",
       "<polyline fill=\"none\" points=\"902.5,-581.5 902.5,-627.5 \" stroke=\"#000000\"/>\n",
       "<text fill=\"#000000\" font-family=\"Times,serif\" font-size=\"14.00\" text-anchor=\"middle\" x=\"930.5\" y=\"-612.3\">input:</text>\n",
       "<polyline fill=\"none\" points=\"902.5,-604.5 958.5,-604.5 \" stroke=\"#000000\"/>\n",
       "<text fill=\"#000000\" font-family=\"Times,serif\" font-size=\"14.00\" text-anchor=\"middle\" x=\"930.5\" y=\"-589.3\">output:</text>\n",
       "<polyline fill=\"none\" points=\"958.5,-581.5 958.5,-627.5 \" stroke=\"#000000\"/>\n",
       "<text fill=\"#000000\" font-family=\"Times,serif\" font-size=\"14.00\" text-anchor=\"middle\" x=\"1004\" y=\"-612.3\">(None, 1)</text>\n",
       "<polyline fill=\"none\" points=\"958.5,-604.5 1049.5,-604.5 \" stroke=\"#000000\"/>\n",
       "<text fill=\"#000000\" font-family=\"Times,serif\" font-size=\"14.00\" text-anchor=\"middle\" x=\"1004\" y=\"-589.3\">(None, 1, 10)</text>\n",
       "</g>\n",
       "<!-- 113262549536&#45;&gt;113262599024 -->\n",
       "<g class=\"edge\" id=\"edge3\">\n",
       "<title>113262549536-&gt;113262599024</title>\n",
       "<path d=\"M882.5,-664.3799C882.5,-656.1745 882.5,-646.7679 882.5,-637.8786\" fill=\"none\" stroke=\"#000000\"/>\n",
       "<polygon fill=\"#000000\" points=\"886.0001,-637.784 882.5,-627.784 879.0001,-637.784 886.0001,-637.784\" stroke=\"#000000\"/>\n",
       "</g>\n",
       "<!-- 113262600144 -->\n",
       "<g class=\"node\" id=\"node4\">\n",
       "<title>113262600144</title>\n",
       "<polygon fill=\"none\" points=\"1096.5,-664.5 1096.5,-710.5 1370.5,-710.5 1370.5,-664.5 1096.5,-664.5\" stroke=\"#000000\"/>\n",
       "<text fill=\"#000000\" font-family=\"Times,serif\" font-size=\"14.00\" text-anchor=\"middle\" x=\"1170.5\" y=\"-683.8\">Dept-Input: InputLayer</text>\n",
       "<polyline fill=\"none\" points=\"1244.5,-664.5 1244.5,-710.5 \" stroke=\"#000000\"/>\n",
       "<text fill=\"#000000\" font-family=\"Times,serif\" font-size=\"14.00\" text-anchor=\"middle\" x=\"1272.5\" y=\"-695.3\">input:</text>\n",
       "<polyline fill=\"none\" points=\"1244.5,-687.5 1300.5,-687.5 \" stroke=\"#000000\"/>\n",
       "<text fill=\"#000000\" font-family=\"Times,serif\" font-size=\"14.00\" text-anchor=\"middle\" x=\"1272.5\" y=\"-672.3\">output:</text>\n",
       "<polyline fill=\"none\" points=\"1300.5,-664.5 1300.5,-710.5 \" stroke=\"#000000\"/>\n",
       "<text fill=\"#000000\" font-family=\"Times,serif\" font-size=\"14.00\" text-anchor=\"middle\" x=\"1335.5\" y=\"-695.3\">(None, 1)</text>\n",
       "<polyline fill=\"none\" points=\"1300.5,-687.5 1370.5,-687.5 \" stroke=\"#000000\"/>\n",
       "<text fill=\"#000000\" font-family=\"Times,serif\" font-size=\"14.00\" text-anchor=\"middle\" x=\"1335.5\" y=\"-672.3\">(None, 1)</text>\n",
       "</g>\n",
       "<!-- 113262770888 -->\n",
       "<g class=\"node\" id=\"node8\">\n",
       "<title>113262770888</title>\n",
       "<polygon fill=\"none\" points=\"1067.5,-581.5 1067.5,-627.5 1399.5,-627.5 1399.5,-581.5 1067.5,-581.5\" stroke=\"#000000\"/>\n",
       "<text fill=\"#000000\" font-family=\"Times,serif\" font-size=\"14.00\" text-anchor=\"middle\" x=\"1160\" y=\"-600.8\">Dept-Embedding: Embedding</text>\n",
       "<polyline fill=\"none\" points=\"1252.5,-581.5 1252.5,-627.5 \" stroke=\"#000000\"/>\n",
       "<text fill=\"#000000\" font-family=\"Times,serif\" font-size=\"14.00\" text-anchor=\"middle\" x=\"1280.5\" y=\"-612.3\">input:</text>\n",
       "<polyline fill=\"none\" points=\"1252.5,-604.5 1308.5,-604.5 \" stroke=\"#000000\"/>\n",
       "<text fill=\"#000000\" font-family=\"Times,serif\" font-size=\"14.00\" text-anchor=\"middle\" x=\"1280.5\" y=\"-589.3\">output:</text>\n",
       "<polyline fill=\"none\" points=\"1308.5,-581.5 1308.5,-627.5 \" stroke=\"#000000\"/>\n",
       "<text fill=\"#000000\" font-family=\"Times,serif\" font-size=\"14.00\" text-anchor=\"middle\" x=\"1354\" y=\"-612.3\">(None, 1)</text>\n",
       "<polyline fill=\"none\" points=\"1308.5,-604.5 1399.5,-604.5 \" stroke=\"#000000\"/>\n",
       "<text fill=\"#000000\" font-family=\"Times,serif\" font-size=\"14.00\" text-anchor=\"middle\" x=\"1354\" y=\"-589.3\">(None, 1, 10)</text>\n",
       "</g>\n",
       "<!-- 113262600144&#45;&gt;113262770888 -->\n",
       "<g class=\"edge\" id=\"edge4\">\n",
       "<title>113262600144-&gt;113262770888</title>\n",
       "<path d=\"M1233.5,-664.3799C1233.5,-656.1745 1233.5,-646.7679 1233.5,-637.8786\" fill=\"none\" stroke=\"#000000\"/>\n",
       "<polygon fill=\"#000000\" points=\"1237.0001,-637.784 1233.5,-627.784 1230.0001,-637.784 1237.0001,-637.784\" stroke=\"#000000\"/>\n",
       "</g>\n",
       "<!-- 113262548976 -->\n",
       "<g class=\"node\" id=\"node9\">\n",
       "<title>113262548976</title>\n",
       "<polygon fill=\"none\" points=\"57,-498.5 57,-544.5 342,-544.5 342,-498.5 57,-498.5\" stroke=\"#000000\"/>\n",
       "<text fill=\"#000000\" font-family=\"Times,serif\" font-size=\"14.00\" text-anchor=\"middle\" x=\"126\" y=\"-517.8\">Flatten-Users: Flatten</text>\n",
       "<polyline fill=\"none\" points=\"195,-498.5 195,-544.5 \" stroke=\"#000000\"/>\n",
       "<text fill=\"#000000\" font-family=\"Times,serif\" font-size=\"14.00\" text-anchor=\"middle\" x=\"223\" y=\"-529.3\">input:</text>\n",
       "<polyline fill=\"none\" points=\"195,-521.5 251,-521.5 \" stroke=\"#000000\"/>\n",
       "<text fill=\"#000000\" font-family=\"Times,serif\" font-size=\"14.00\" text-anchor=\"middle\" x=\"223\" y=\"-506.3\">output:</text>\n",
       "<polyline fill=\"none\" points=\"251,-498.5 251,-544.5 \" stroke=\"#000000\"/>\n",
       "<text fill=\"#000000\" font-family=\"Times,serif\" font-size=\"14.00\" text-anchor=\"middle\" x=\"296.5\" y=\"-529.3\">(None, 1, 10)</text>\n",
       "<polyline fill=\"none\" points=\"251,-521.5 342,-521.5 \" stroke=\"#000000\"/>\n",
       "<text fill=\"#000000\" font-family=\"Times,serif\" font-size=\"14.00\" text-anchor=\"middle\" x=\"296.5\" y=\"-506.3\">(None, 10)</text>\n",
       "</g>\n",
       "<!-- 113262548304&#45;&gt;113262548976 -->\n",
       "<g class=\"edge\" id=\"edge5\">\n",
       "<title>113262548304-&gt;113262548976</title>\n",
       "<path d=\"M174.9709,-581.3799C178.4052,-572.9962 182.3532,-563.3584 186.064,-554.2996\" fill=\"none\" stroke=\"#000000\"/>\n",
       "<polygon fill=\"#000000\" points=\"189.41,-555.3645 189.962,-544.784 182.9324,-552.7109 189.41,-555.3645\" stroke=\"#000000\"/>\n",
       "</g>\n",
       "<!-- 113262548472 -->\n",
       "<g class=\"node\" id=\"node10\">\n",
       "<title>113262548472</title>\n",
       "<polygon fill=\"none\" points=\"383.5,-498.5 383.5,-544.5 685.5,-544.5 685.5,-498.5 383.5,-498.5\" stroke=\"#000000\"/>\n",
       "<text fill=\"#000000\" font-family=\"Times,serif\" font-size=\"14.00\" text-anchor=\"middle\" x=\"461\" y=\"-517.8\">Flatten-Products: Flatten</text>\n",
       "<polyline fill=\"none\" points=\"538.5,-498.5 538.5,-544.5 \" stroke=\"#000000\"/>\n",
       "<text fill=\"#000000\" font-family=\"Times,serif\" font-size=\"14.00\" text-anchor=\"middle\" x=\"566.5\" y=\"-529.3\">input:</text>\n",
       "<polyline fill=\"none\" points=\"538.5,-521.5 594.5,-521.5 \" stroke=\"#000000\"/>\n",
       "<text fill=\"#000000\" font-family=\"Times,serif\" font-size=\"14.00\" text-anchor=\"middle\" x=\"566.5\" y=\"-506.3\">output:</text>\n",
       "<polyline fill=\"none\" points=\"594.5,-498.5 594.5,-544.5 \" stroke=\"#000000\"/>\n",
       "<text fill=\"#000000\" font-family=\"Times,serif\" font-size=\"14.00\" text-anchor=\"middle\" x=\"640\" y=\"-529.3\">(None, 1, 30)</text>\n",
       "<polyline fill=\"none\" points=\"594.5,-521.5 685.5,-521.5 \" stroke=\"#000000\"/>\n",
       "<text fill=\"#000000\" font-family=\"Times,serif\" font-size=\"14.00\" text-anchor=\"middle\" x=\"640\" y=\"-506.3\">(None, 30)</text>\n",
       "</g>\n",
       "<!-- 113262548528&#45;&gt;113262548472 -->\n",
       "<g class=\"edge\" id=\"edge6\">\n",
       "<title>113262548528-&gt;113262548472</title>\n",
       "<path d=\"M526.5641,-581.3799C527.6516,-573.1745 528.8982,-563.7679 530.0763,-554.8786\" fill=\"none\" stroke=\"#000000\"/>\n",
       "<polygon fill=\"#000000\" points=\"533.5699,-555.1572 531.4142,-544.784 526.6306,-554.2375 533.5699,-555.1572\" stroke=\"#000000\"/>\n",
       "</g>\n",
       "<!-- 113262598128 -->\n",
       "<g class=\"node\" id=\"node11\">\n",
       "<title>113262598128</title>\n",
       "<polygon fill=\"none\" points=\"726.5,-498.5 726.5,-544.5 1014.5,-544.5 1014.5,-498.5 726.5,-498.5\" stroke=\"#000000\"/>\n",
       "<text fill=\"#000000\" font-family=\"Times,serif\" font-size=\"14.00\" text-anchor=\"middle\" x=\"797\" y=\"-517.8\">Flatten-Aisles: Flatten</text>\n",
       "<polyline fill=\"none\" points=\"867.5,-498.5 867.5,-544.5 \" stroke=\"#000000\"/>\n",
       "<text fill=\"#000000\" font-family=\"Times,serif\" font-size=\"14.00\" text-anchor=\"middle\" x=\"895.5\" y=\"-529.3\">input:</text>\n",
       "<polyline fill=\"none\" points=\"867.5,-521.5 923.5,-521.5 \" stroke=\"#000000\"/>\n",
       "<text fill=\"#000000\" font-family=\"Times,serif\" font-size=\"14.00\" text-anchor=\"middle\" x=\"895.5\" y=\"-506.3\">output:</text>\n",
       "<polyline fill=\"none\" points=\"923.5,-498.5 923.5,-544.5 \" stroke=\"#000000\"/>\n",
       "<text fill=\"#000000\" font-family=\"Times,serif\" font-size=\"14.00\" text-anchor=\"middle\" x=\"969\" y=\"-529.3\">(None, 1, 10)</text>\n",
       "<polyline fill=\"none\" points=\"923.5,-521.5 1014.5,-521.5 \" stroke=\"#000000\"/>\n",
       "<text fill=\"#000000\" font-family=\"Times,serif\" font-size=\"14.00\" text-anchor=\"middle\" x=\"969\" y=\"-506.3\">(None, 10)</text>\n",
       "</g>\n",
       "<!-- 113262599024&#45;&gt;113262598128 -->\n",
       "<g class=\"edge\" id=\"edge7\">\n",
       "<title>113262599024-&gt;113262598128</title>\n",
       "<path d=\"M879.1573,-581.3799C877.971,-573.1745 876.611,-563.7679 875.3258,-554.8786\" fill=\"none\" stroke=\"#000000\"/>\n",
       "<polygon fill=\"#000000\" points=\"878.7613,-554.1803 873.8664,-544.784 871.8334,-555.1819 878.7613,-554.1803\" stroke=\"#000000\"/>\n",
       "</g>\n",
       "<!-- 113262770160 -->\n",
       "<g class=\"node\" id=\"node12\">\n",
       "<title>113262770160</title>\n",
       "<polygon fill=\"none\" points=\"1032.5,-498.5 1032.5,-544.5 1318.5,-544.5 1318.5,-498.5 1032.5,-498.5\" stroke=\"#000000\"/>\n",
       "<text fill=\"#000000\" font-family=\"Times,serif\" font-size=\"14.00\" text-anchor=\"middle\" x=\"1102\" y=\"-517.8\">Flatten-Depts: Flatten</text>\n",
       "<polyline fill=\"none\" points=\"1171.5,-498.5 1171.5,-544.5 \" stroke=\"#000000\"/>\n",
       "<text fill=\"#000000\" font-family=\"Times,serif\" font-size=\"14.00\" text-anchor=\"middle\" x=\"1199.5\" y=\"-529.3\">input:</text>\n",
       "<polyline fill=\"none\" points=\"1171.5,-521.5 1227.5,-521.5 \" stroke=\"#000000\"/>\n",
       "<text fill=\"#000000\" font-family=\"Times,serif\" font-size=\"14.00\" text-anchor=\"middle\" x=\"1199.5\" y=\"-506.3\">output:</text>\n",
       "<polyline fill=\"none\" points=\"1227.5,-498.5 1227.5,-544.5 \" stroke=\"#000000\"/>\n",
       "<text fill=\"#000000\" font-family=\"Times,serif\" font-size=\"14.00\" text-anchor=\"middle\" x=\"1273\" y=\"-529.3\">(None, 1, 10)</text>\n",
       "<polyline fill=\"none\" points=\"1227.5,-521.5 1318.5,-521.5 \" stroke=\"#000000\"/>\n",
       "<text fill=\"#000000\" font-family=\"Times,serif\" font-size=\"14.00\" text-anchor=\"middle\" x=\"1273\" y=\"-506.3\">(None, 10)</text>\n",
       "</g>\n",
       "<!-- 113262770888&#45;&gt;113262770160 -->\n",
       "<g class=\"edge\" id=\"edge8\">\n",
       "<title>113262770888-&gt;113262770160</title>\n",
       "<path d=\"M1217.3438,-581.3799C1211.236,-572.6394 1204.1756,-562.5358 1197.6144,-553.1465\" fill=\"none\" stroke=\"#000000\"/>\n",
       "<polygon fill=\"#000000\" points=\"1200.3677,-550.9762 1191.7708,-544.784 1194.6298,-554.9858 1200.3677,-550.9762\" stroke=\"#000000\"/>\n",
       "</g>\n",
       "<!-- 113262580736 -->\n",
       "<g class=\"node\" id=\"node14\">\n",
       "<title>113262580736</title>\n",
       "<polygon fill=\"none\" points=\"577.5,-415.5 577.5,-461.5 1163.5,-461.5 1163.5,-415.5 577.5,-415.5\" stroke=\"#000000\"/>\n",
       "<text fill=\"#000000\" font-family=\"Times,serif\" font-size=\"14.00\" text-anchor=\"middle\" x=\"667.5\" y=\"-434.8\">concatenate_11: Concatenate</text>\n",
       "<polyline fill=\"none\" points=\"757.5,-415.5 757.5,-461.5 \" stroke=\"#000000\"/>\n",
       "<text fill=\"#000000\" font-family=\"Times,serif\" font-size=\"14.00\" text-anchor=\"middle\" x=\"785.5\" y=\"-446.3\">input:</text>\n",
       "<polyline fill=\"none\" points=\"757.5,-438.5 813.5,-438.5 \" stroke=\"#000000\"/>\n",
       "<text fill=\"#000000\" font-family=\"Times,serif\" font-size=\"14.00\" text-anchor=\"middle\" x=\"785.5\" y=\"-423.3\">output:</text>\n",
       "<polyline fill=\"none\" points=\"813.5,-415.5 813.5,-461.5 \" stroke=\"#000000\"/>\n",
       "<text fill=\"#000000\" font-family=\"Times,serif\" font-size=\"14.00\" text-anchor=\"middle\" x=\"988.5\" y=\"-446.3\">[(None, 10), (None, 30), (None, 10), (None, 10), (None, 5)]</text>\n",
       "<polyline fill=\"none\" points=\"813.5,-438.5 1163.5,-438.5 \" stroke=\"#000000\"/>\n",
       "<text fill=\"#000000\" font-family=\"Times,serif\" font-size=\"14.00\" text-anchor=\"middle\" x=\"988.5\" y=\"-423.3\">(None, 65)</text>\n",
       "</g>\n",
       "<!-- 113262548976&#45;&gt;113262580736 -->\n",
       "<g class=\"edge\" id=\"edge9\">\n",
       "<title>113262548976-&gt;113262580736</title>\n",
       "<path d=\"M342.2591,-502.1606C353.1666,-500.7346 364.0086,-499.3336 374.5,-498 469.2446,-485.9564 574.258,-473.2643 663.1741,-462.7102\" fill=\"none\" stroke=\"#000000\"/>\n",
       "<polygon fill=\"#000000\" points=\"663.5863,-466.186 673.1045,-461.5325 662.7618,-459.2347 663.5863,-466.186\" stroke=\"#000000\"/>\n",
       "</g>\n",
       "<!-- 113262548472&#45;&gt;113262580736 -->\n",
       "<g class=\"edge\" id=\"edge10\">\n",
       "<title>113262548472-&gt;113262580736</title>\n",
       "<path d=\"M627.6485,-498.4901C670.9825,-487.7856 722.6682,-475.018 767.1967,-464.0184\" fill=\"none\" stroke=\"#000000\"/>\n",
       "<polygon fill=\"#000000\" points=\"768.3015,-467.3508 777.1703,-461.5547 766.6227,-460.555 768.3015,-467.3508\" stroke=\"#000000\"/>\n",
       "</g>\n",
       "<!-- 113262598128&#45;&gt;113262580736 -->\n",
       "<g class=\"edge\" id=\"edge11\">\n",
       "<title>113262598128-&gt;113262580736</title>\n",
       "<path d=\"M870.5,-498.3799C870.5,-490.1745 870.5,-480.7679 870.5,-471.8786\" fill=\"none\" stroke=\"#000000\"/>\n",
       "<polygon fill=\"#000000\" points=\"874.0001,-471.784 870.5,-461.784 867.0001,-471.784 874.0001,-471.784\" stroke=\"#000000\"/>\n",
       "</g>\n",
       "<!-- 113262770160&#45;&gt;113262580736 -->\n",
       "<g class=\"edge\" id=\"edge12\">\n",
       "<title>113262770160-&gt;113262580736</title>\n",
       "<path d=\"M1090.9455,-498.4901C1051.8576,-487.853 1005.2837,-475.1788 965.0374,-464.2266\" fill=\"none\" stroke=\"#000000\"/>\n",
       "<polygon fill=\"#000000\" points=\"965.7871,-460.8034 955.219,-461.5547 963.949,-467.5577 965.7871,-460.8034\" stroke=\"#000000\"/>\n",
       "</g>\n",
       "<!-- 113262769040 -->\n",
       "<g class=\"node\" id=\"node13\">\n",
       "<title>113262769040</title>\n",
       "<polygon fill=\"none\" points=\"1337,-498.5 1337,-544.5 1632,-544.5 1632,-498.5 1337,-498.5\" stroke=\"#000000\"/>\n",
       "<text fill=\"#000000\" font-family=\"Times,serif\" font-size=\"14.00\" text-anchor=\"middle\" x=\"1421.5\" y=\"-517.8\">Numeric-Input: InputLayer</text>\n",
       "<polyline fill=\"none\" points=\"1506,-498.5 1506,-544.5 \" stroke=\"#000000\"/>\n",
       "<text fill=\"#000000\" font-family=\"Times,serif\" font-size=\"14.00\" text-anchor=\"middle\" x=\"1534\" y=\"-529.3\">input:</text>\n",
       "<polyline fill=\"none\" points=\"1506,-521.5 1562,-521.5 \" stroke=\"#000000\"/>\n",
       "<text fill=\"#000000\" font-family=\"Times,serif\" font-size=\"14.00\" text-anchor=\"middle\" x=\"1534\" y=\"-506.3\">output:</text>\n",
       "<polyline fill=\"none\" points=\"1562,-498.5 1562,-544.5 \" stroke=\"#000000\"/>\n",
       "<text fill=\"#000000\" font-family=\"Times,serif\" font-size=\"14.00\" text-anchor=\"middle\" x=\"1597\" y=\"-529.3\">(None, 5)</text>\n",
       "<polyline fill=\"none\" points=\"1562,-521.5 1632,-521.5 \" stroke=\"#000000\"/>\n",
       "<text fill=\"#000000\" font-family=\"Times,serif\" font-size=\"14.00\" text-anchor=\"middle\" x=\"1597\" y=\"-506.3\">(None, 5)</text>\n",
       "</g>\n",
       "<!-- 113262769040&#45;&gt;113262580736 -->\n",
       "<g class=\"edge\" id=\"edge13\">\n",
       "<title>113262769040-&gt;113262580736</title>\n",
       "<path d=\"M1336.5945,-499.2808C1333.5367,-498.8475 1330.5024,-498.4201 1327.5,-498 1241.0637,-485.9053 1145.3125,-473.3145 1063.8791,-462.8465\" fill=\"none\" stroke=\"#000000\"/>\n",
       "<polygon fill=\"#000000\" points=\"1063.8752,-459.3173 1053.5108,-461.5152 1062.9836,-466.2603 1063.8752,-459.3173\" stroke=\"#000000\"/>\n",
       "</g>\n",
       "<!-- 113262582528 -->\n",
       "<g class=\"node\" id=\"node15\">\n",
       "<title>113262582528</title>\n",
       "<polygon fill=\"none\" points=\"724,-332.5 724,-378.5 1017,-378.5 1017,-332.5 724,-332.5\" stroke=\"#000000\"/>\n",
       "<text fill=\"#000000\" font-family=\"Times,serif\" font-size=\"14.00\" text-anchor=\"middle\" x=\"804\" y=\"-351.8\">FullyConnected-1: Dense</text>\n",
       "<polyline fill=\"none\" points=\"884,-332.5 884,-378.5 \" stroke=\"#000000\"/>\n",
       "<text fill=\"#000000\" font-family=\"Times,serif\" font-size=\"14.00\" text-anchor=\"middle\" x=\"912\" y=\"-363.3\">input:</text>\n",
       "<polyline fill=\"none\" points=\"884,-355.5 940,-355.5 \" stroke=\"#000000\"/>\n",
       "<text fill=\"#000000\" font-family=\"Times,serif\" font-size=\"14.00\" text-anchor=\"middle\" x=\"912\" y=\"-340.3\">output:</text>\n",
       "<polyline fill=\"none\" points=\"940,-332.5 940,-378.5 \" stroke=\"#000000\"/>\n",
       "<text fill=\"#000000\" font-family=\"Times,serif\" font-size=\"14.00\" text-anchor=\"middle\" x=\"978.5\" y=\"-363.3\">(None, 65)</text>\n",
       "<polyline fill=\"none\" points=\"940,-355.5 1017,-355.5 \" stroke=\"#000000\"/>\n",
       "<text fill=\"#000000\" font-family=\"Times,serif\" font-size=\"14.00\" text-anchor=\"middle\" x=\"978.5\" y=\"-340.3\">(None, 20)</text>\n",
       "</g>\n",
       "<!-- 113262580736&#45;&gt;113262582528 -->\n",
       "<g class=\"edge\" id=\"edge14\">\n",
       "<title>113262580736-&gt;113262582528</title>\n",
       "<path d=\"M870.5,-415.3799C870.5,-407.1745 870.5,-397.7679 870.5,-388.8786\" fill=\"none\" stroke=\"#000000\"/>\n",
       "<polygon fill=\"#000000\" points=\"874.0001,-388.784 870.5,-378.784 867.0001,-388.784 874.0001,-388.784\" stroke=\"#000000\"/>\n",
       "</g>\n",
       "<!-- 113262581128 -->\n",
       "<g class=\"node\" id=\"node16\">\n",
       "<title>113262581128</title>\n",
       "<polygon fill=\"none\" points=\"739.5,-249.5 739.5,-295.5 1001.5,-295.5 1001.5,-249.5 739.5,-249.5\" stroke=\"#000000\"/>\n",
       "<text fill=\"#000000\" font-family=\"Times,serif\" font-size=\"14.00\" text-anchor=\"middle\" x=\"804\" y=\"-268.8\">Dropout-1: Dropout</text>\n",
       "<polyline fill=\"none\" points=\"868.5,-249.5 868.5,-295.5 \" stroke=\"#000000\"/>\n",
       "<text fill=\"#000000\" font-family=\"Times,serif\" font-size=\"14.00\" text-anchor=\"middle\" x=\"896.5\" y=\"-280.3\">input:</text>\n",
       "<polyline fill=\"none\" points=\"868.5,-272.5 924.5,-272.5 \" stroke=\"#000000\"/>\n",
       "<text fill=\"#000000\" font-family=\"Times,serif\" font-size=\"14.00\" text-anchor=\"middle\" x=\"896.5\" y=\"-257.3\">output:</text>\n",
       "<polyline fill=\"none\" points=\"924.5,-249.5 924.5,-295.5 \" stroke=\"#000000\"/>\n",
       "<text fill=\"#000000\" font-family=\"Times,serif\" font-size=\"14.00\" text-anchor=\"middle\" x=\"963\" y=\"-280.3\">(None, 20)</text>\n",
       "<polyline fill=\"none\" points=\"924.5,-272.5 1001.5,-272.5 \" stroke=\"#000000\"/>\n",
       "<text fill=\"#000000\" font-family=\"Times,serif\" font-size=\"14.00\" text-anchor=\"middle\" x=\"963\" y=\"-257.3\">(None, 20)</text>\n",
       "</g>\n",
       "<!-- 113262582528&#45;&gt;113262581128 -->\n",
       "<g class=\"edge\" id=\"edge15\">\n",
       "<title>113262582528-&gt;113262581128</title>\n",
       "<path d=\"M870.5,-332.3799C870.5,-324.1745 870.5,-314.7679 870.5,-305.8786\" fill=\"none\" stroke=\"#000000\"/>\n",
       "<polygon fill=\"#000000\" points=\"874.0001,-305.784 870.5,-295.784 867.0001,-305.784 874.0001,-305.784\" stroke=\"#000000\"/>\n",
       "</g>\n",
       "<!-- 113262580176 -->\n",
       "<g class=\"node\" id=\"node17\">\n",
       "<title>113262580176</title>\n",
       "<polygon fill=\"none\" points=\"724,-166.5 724,-212.5 1017,-212.5 1017,-166.5 724,-166.5\" stroke=\"#000000\"/>\n",
       "<text fill=\"#000000\" font-family=\"Times,serif\" font-size=\"14.00\" text-anchor=\"middle\" x=\"804\" y=\"-185.8\">FullyConnected-2: Dense</text>\n",
       "<polyline fill=\"none\" points=\"884,-166.5 884,-212.5 \" stroke=\"#000000\"/>\n",
       "<text fill=\"#000000\" font-family=\"Times,serif\" font-size=\"14.00\" text-anchor=\"middle\" x=\"912\" y=\"-197.3\">input:</text>\n",
       "<polyline fill=\"none\" points=\"884,-189.5 940,-189.5 \" stroke=\"#000000\"/>\n",
       "<text fill=\"#000000\" font-family=\"Times,serif\" font-size=\"14.00\" text-anchor=\"middle\" x=\"912\" y=\"-174.3\">output:</text>\n",
       "<polyline fill=\"none\" points=\"940,-166.5 940,-212.5 \" stroke=\"#000000\"/>\n",
       "<text fill=\"#000000\" font-family=\"Times,serif\" font-size=\"14.00\" text-anchor=\"middle\" x=\"978.5\" y=\"-197.3\">(None, 20)</text>\n",
       "<polyline fill=\"none\" points=\"940,-189.5 1017,-189.5 \" stroke=\"#000000\"/>\n",
       "<text fill=\"#000000\" font-family=\"Times,serif\" font-size=\"14.00\" text-anchor=\"middle\" x=\"978.5\" y=\"-174.3\">(None, 20)</text>\n",
       "</g>\n",
       "<!-- 113262581128&#45;&gt;113262580176 -->\n",
       "<g class=\"edge\" id=\"edge16\">\n",
       "<title>113262581128-&gt;113262580176</title>\n",
       "<path d=\"M870.5,-249.3799C870.5,-241.1745 870.5,-231.7679 870.5,-222.8786\" fill=\"none\" stroke=\"#000000\"/>\n",
       "<polygon fill=\"#000000\" points=\"874.0001,-222.784 870.5,-212.784 867.0001,-222.784 874.0001,-222.784\" stroke=\"#000000\"/>\n",
       "</g>\n",
       "<!-- 113262580680 -->\n",
       "<g class=\"node\" id=\"node18\">\n",
       "<title>113262580680</title>\n",
       "<polygon fill=\"none\" points=\"739.5,-83.5 739.5,-129.5 1001.5,-129.5 1001.5,-83.5 739.5,-83.5\" stroke=\"#000000\"/>\n",
       "<text fill=\"#000000\" font-family=\"Times,serif\" font-size=\"14.00\" text-anchor=\"middle\" x=\"804\" y=\"-102.8\">Dropout-2: Dropout</text>\n",
       "<polyline fill=\"none\" points=\"868.5,-83.5 868.5,-129.5 \" stroke=\"#000000\"/>\n",
       "<text fill=\"#000000\" font-family=\"Times,serif\" font-size=\"14.00\" text-anchor=\"middle\" x=\"896.5\" y=\"-114.3\">input:</text>\n",
       "<polyline fill=\"none\" points=\"868.5,-106.5 924.5,-106.5 \" stroke=\"#000000\"/>\n",
       "<text fill=\"#000000\" font-family=\"Times,serif\" font-size=\"14.00\" text-anchor=\"middle\" x=\"896.5\" y=\"-91.3\">output:</text>\n",
       "<polyline fill=\"none\" points=\"924.5,-83.5 924.5,-129.5 \" stroke=\"#000000\"/>\n",
       "<text fill=\"#000000\" font-family=\"Times,serif\" font-size=\"14.00\" text-anchor=\"middle\" x=\"963\" y=\"-114.3\">(None, 20)</text>\n",
       "<polyline fill=\"none\" points=\"924.5,-106.5 1001.5,-106.5 \" stroke=\"#000000\"/>\n",
       "<text fill=\"#000000\" font-family=\"Times,serif\" font-size=\"14.00\" text-anchor=\"middle\" x=\"963\" y=\"-91.3\">(None, 20)</text>\n",
       "</g>\n",
       "<!-- 113262580176&#45;&gt;113262580680 -->\n",
       "<g class=\"edge\" id=\"edge17\">\n",
       "<title>113262580176-&gt;113262580680</title>\n",
       "<path d=\"M870.5,-166.3799C870.5,-158.1745 870.5,-148.7679 870.5,-139.8786\" fill=\"none\" stroke=\"#000000\"/>\n",
       "<polygon fill=\"#000000\" points=\"874.0001,-139.784 870.5,-129.784 867.0001,-139.784 874.0001,-139.784\" stroke=\"#000000\"/>\n",
       "</g>\n",
       "<!-- 112712340536 -->\n",
       "<g class=\"node\" id=\"node19\">\n",
       "<title>112712340536</title>\n",
       "<polygon fill=\"none\" points=\"708,-.5 708,-46.5 1033,-46.5 1033,-.5 708,-.5\" stroke=\"#000000\"/>\n",
       "<text fill=\"#000000\" font-family=\"Times,serif\" font-size=\"14.00\" text-anchor=\"middle\" x=\"804\" y=\"-19.8\">FullyConnected-Output: Dense</text>\n",
       "<polyline fill=\"none\" points=\"900,-.5 900,-46.5 \" stroke=\"#000000\"/>\n",
       "<text fill=\"#000000\" font-family=\"Times,serif\" font-size=\"14.00\" text-anchor=\"middle\" x=\"928\" y=\"-31.3\">input:</text>\n",
       "<polyline fill=\"none\" points=\"900,-23.5 956,-23.5 \" stroke=\"#000000\"/>\n",
       "<text fill=\"#000000\" font-family=\"Times,serif\" font-size=\"14.00\" text-anchor=\"middle\" x=\"928\" y=\"-8.3\">output:</text>\n",
       "<polyline fill=\"none\" points=\"956,-.5 956,-46.5 \" stroke=\"#000000\"/>\n",
       "<text fill=\"#000000\" font-family=\"Times,serif\" font-size=\"14.00\" text-anchor=\"middle\" x=\"994.5\" y=\"-31.3\">(None, 20)</text>\n",
       "<polyline fill=\"none\" points=\"956,-23.5 1033,-23.5 \" stroke=\"#000000\"/>\n",
       "<text fill=\"#000000\" font-family=\"Times,serif\" font-size=\"14.00\" text-anchor=\"middle\" x=\"994.5\" y=\"-8.3\">(None, 1)</text>\n",
       "</g>\n",
       "<!-- 113262580680&#45;&gt;112712340536 -->\n",
       "<g class=\"edge\" id=\"edge18\">\n",
       "<title>113262580680-&gt;112712340536</title>\n",
       "<path d=\"M870.5,-83.3799C870.5,-75.1745 870.5,-65.7679 870.5,-56.8786\" fill=\"none\" stroke=\"#000000\"/>\n",
       "<polygon fill=\"#000000\" points=\"874.0001,-56.784 870.5,-46.784 867.0001,-56.784 874.0001,-56.784\" stroke=\"#000000\"/>\n",
       "</g>\n",
       "</g>\n",
       "</svg>"
      ],
      "text/plain": [
       "<IPython.core.display.SVG object>"
      ]
     },
     "execution_count": 246,
     "metadata": {},
     "output_type": "execute_result"
    }
   ],
   "source": [
    "import pydot\n",
    "from IPython.display import SVG\n",
    "from keras.utils.vis_utils import model_to_dot\n",
    "SVG(model_to_dot(model,  show_shapes=True, show_layer_names=True, rankdir='HB').create(prog='dot', format='svg'))"
   ]
  },
  {
   "cell_type": "code",
   "execution_count": null,
   "metadata": {
    "collapsed": true
   },
   "outputs": [],
   "source": []
  }
 ],
 "metadata": {
  "kernelspec": {
   "display_name": "Python 3",
   "language": "python",
   "name": "python3"
  },
  "varInspector": {
   "cols": {
    "lenName": 16,
    "lenType": 16,
    "lenVar": 40
   },
   "kernels_config": {
    "python": {
     "delete_cmd_postfix": "",
     "delete_cmd_prefix": "del ",
     "library": "var_list.py",
     "varRefreshCmd": "print(var_dic_list())"
    },
    "r": {
     "delete_cmd_postfix": ") ",
     "delete_cmd_prefix": "rm(",
     "library": "var_list.r",
     "varRefreshCmd": "cat(var_dic_list()) "
    }
   },
   "types_to_exclude": [
    "module",
    "function",
    "builtin_function_or_method",
    "instance",
    "_Feature"
   ],
   "window_display": false
  }
 },
 "nbformat": 4,
 "nbformat_minor": 2
}
